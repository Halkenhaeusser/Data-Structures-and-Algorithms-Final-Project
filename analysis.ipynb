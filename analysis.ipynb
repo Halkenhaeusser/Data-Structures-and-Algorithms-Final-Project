{
 "cells": [
  {
   "cell_type": "markdown",
   "metadata": {},
   "source": [
    "# Compare tweets and party programs\n",
    "\n",
    "https://github.com/adsieg/text_similarity/blob/master/Different%20Embeddings%20%2B%20Cosine%20Similarity%20%2B%20HeatMap%20illustration.ipynb \n",
    "\n",
    "https://www.machinelearningplus.com/nlp/cosine-similarity/\n"
   ]
  },
  {
   "cell_type": "code",
   "execution_count": 73,
   "metadata": {},
   "outputs": [],
   "source": [
    "import numpy as np\n",
    "import matplotlib.pyplot as plt\n",
    "import pandas as pd\n",
    "import datetime \n",
    "import nltk\n",
    "from sklearn.feature_extraction.text import CountVectorizer, TfidfVectorizer\n",
    "import gensim\n",
    "from gensim.models import Word2Vec\n",
    "import re\n",
    "from nltk.corpus import stopwords\n",
    "from sklearn.metrics.pairwise import cosine_similarity"
   ]
  },
  {
   "cell_type": "code",
   "execution_count": 125,
   "metadata": {},
   "outputs": [],
   "source": [
    "programme = open('party_programmes/gruene.txt', \"r\").read()"
   ]
  },
  {
   "cell_type": "code",
   "execution_count": 74,
   "metadata": {},
   "outputs": [],
   "source": [
    "#Cleaning text \n",
    "\n",
    "#also stole this from: https://github.com/adsieg/text_similarity/blob/master/Different%20Embeddings%20%2B%20Cosine%20Similarity%20%2B%20HeatMap%20illustration.ipynb\n",
    "def preprocess(raw_text):\n",
    "\n",
    "    # keep only words\n",
    "    letters_only_text = re.sub(\"[^a-zA-Z]\", \" \", raw_text)\n",
    "\n",
    "    # convert to lower case and split \n",
    "    words = letters_only_text.lower().split()\n",
    "\n",
    "    # remove stopwords\n",
    "    stopword_set = set(stopwords.words(\"german\"))\n",
    "    cleaned_words = list(set([w for w in words if w not in stopword_set]))\n",
    "\n",
    "    return cleaned_words\n",
    "\n",
    "gruene_cleaned = preprocess(programme)"
   ]
  },
  {
   "cell_type": "code",
   "execution_count": 126,
   "metadata": {},
   "outputs": [],
   "source": [
    "# get pre-trained model\n",
    "\n",
    "# downloaded a German word embedding model from http://devmount.github.io/GermanWordEmbeddings/#download \n",
    "# das github von dem dude: https://github.com/devmount/GermanWordEmbeddings/blob/master/code/pca.ipynb\n"
   ]
  },
  {
   "cell_type": "markdown",
   "metadata": {},
   "source": [
    "What I would need to do, to make this work:\n",
    "- Get a better embedding model for German language [done]\n",
    "- Loop each word into the model and calculate the mean (or weighted mean) [done]\n",
    "- then calculate the cosine distance [done]\n",
    "- this can work. currently the main thing is the German Language Model."
   ]
  },
  {
   "cell_type": "markdown",
   "metadata": {},
   "source": [
    "# Trying with the German FastText Wiki Model"
   ]
  },
  {
   "cell_type": "code",
   "execution_count": 106,
   "metadata": {},
   "outputs": [],
   "source": [
    "import fasttext"
   ]
  },
  {
   "cell_type": "code",
   "execution_count": 133,
   "metadata": {},
   "outputs": [],
   "source": [
    "#source https://fasttext.cc/docs/en/pretrained-vectors.html \n",
    "ft_model_wiki = fasttext.load_model(\"language_models/wiki.de.bin\")"
   ]
  },
  {
   "cell_type": "code",
   "execution_count": 135,
   "metadata": {},
   "outputs": [],
   "source": [
    "#source https://fasttext.cc/docs/en/crawl-vectors.html\n",
    "ft_model_cc_wiki = fasttext.load_model(\"language_models/cc.de.300.bin\")"
   ]
  },
  {
   "cell_type": "code",
   "execution_count": 136,
   "metadata": {},
   "outputs": [
    {
     "data": {
      "text/plain": [
       "array([-6.66586831e-02, -1.20093264e-01,  2.17122920e-02, -4.39679995e-02,\n",
       "        1.71260838e-03,  1.33931994e-01,  7.26640150e-02,  4.74838801e-02,\n",
       "       -4.67565209e-02, -9.32673085e-03, -8.86969492e-02,  1.16495393e-01,\n",
       "        1.84771400e-02, -2.54264902e-02, -7.09674060e-02, -3.34988385e-02,\n",
       "        1.34711841e-03, -4.90736179e-02,  3.76501456e-02,  1.02975540e-01,\n",
       "        2.81355320e-03,  6.00518845e-02, -3.26939635e-02, -7.31652826e-02,\n",
       "        8.60609143e-05, -1.24841563e-01,  1.32975830e-02,  5.85928522e-02,\n",
       "        6.27549365e-03,  2.52863467e-02, -6.64956495e-02,  1.12517796e-01,\n",
       "        1.07481264e-01,  7.51210898e-02, -5.08116446e-02,  7.28011280e-02,\n",
       "       -3.73899974e-02,  6.09375676e-03, -2.99078021e-02, -6.12091310e-02,\n",
       "        3.24815474e-02, -2.56212112e-02,  1.73820311e-03, -1.72924343e-02,\n",
       "       -3.84134129e-02,  1.07680857e-01,  3.57731767e-02, -5.43604977e-02,\n",
       "       -3.34484950e-02, -2.56891251e-02,  3.07286717e-02, -7.17754066e-02,\n",
       "        3.76838855e-02, -1.76961664e-02, -4.62937467e-02, -1.14991978e-01,\n",
       "        3.57122086e-02,  4.59856577e-02,  7.87904188e-02, -3.12247127e-02,\n",
       "       -1.34482011e-02, -1.02161244e-01,  2.29189955e-02,  6.24472573e-02,\n",
       "       -1.86216887e-02,  7.70075396e-02, -2.08791345e-02,  2.99352091e-02,\n",
       "       -1.22472048e-01,  2.26185769e-02,  5.89997768e-02, -8.12892839e-02,\n",
       "       -7.32601359e-02,  1.32191181e-03, -5.12954779e-02,  5.68673387e-03,\n",
       "       -5.03816782e-03, -3.11975065e-03,  5.98734319e-02, -8.25775564e-02,\n",
       "       -1.99109763e-02, -4.96471860e-02, -1.43859714e-01, -1.60829816e-02,\n",
       "       -4.20278944e-02,  1.05918266e-01,  8.14725682e-02, -3.31624560e-02,\n",
       "       -4.12112065e-02, -9.64521766e-02,  1.06595792e-01,  1.48618102e-01,\n",
       "       -3.81413773e-02, -7.62916058e-02, -3.38050313e-02,  1.67988539e-02,\n",
       "       -9.80665758e-02, -5.23778908e-02, -5.00249453e-02,  6.85175285e-02,\n",
       "       -1.26169324e-01, -4.13367637e-02, -1.50113106e-01, -9.09930542e-02,\n",
       "        2.18947418e-02, -6.92398623e-02,  5.94070368e-02, -2.22329590e-02,\n",
       "        2.78376378e-02,  4.80974056e-02, -9.01248306e-02,  1.79353263e-02,\n",
       "       -2.00597160e-02, -4.93346760e-03, -4.87080961e-02, -3.90594117e-02,\n",
       "        5.95144033e-02,  5.10526784e-02,  1.04406253e-01, -3.92537937e-03,\n",
       "       -5.81083447e-03, -8.00121650e-02, -5.46463728e-02, -2.92801801e-02,\n",
       "       -1.85940918e-02,  1.68937013e-01, -3.23866569e-02,  1.31223323e-02,\n",
       "        9.25723463e-04, -1.56816002e-02, -1.08778439e-02,  9.05420259e-02,\n",
       "        5.93297966e-02,  7.79697970e-02,  6.17171526e-02, -2.52792776e-01,\n",
       "        2.30953153e-02, -2.96697002e-02, -1.32528978e-04,  2.47191880e-02,\n",
       "       -5.09847589e-02,  9.17709805e-03,  4.00029682e-02,  8.00849199e-02,\n",
       "       -1.07112803e-01, -6.75595328e-02,  5.76156378e-02, -6.36748299e-02,\n",
       "       -5.03479019e-02, -3.64061631e-02, -6.26217648e-02,  5.06191067e-02,\n",
       "        5.67092299e-02, -3.68202180e-02,  3.52214985e-02,  3.64923291e-03,\n",
       "       -9.64970049e-03,  1.55967772e-02,  1.41647920e-01, -4.99827825e-02,\n",
       "        1.31912157e-02,  3.54485996e-02,  2.59106643e-02,  2.73815244e-02,\n",
       "       -1.49806133e-02,  5.56939421e-03,  8.51191506e-02, -4.00101654e-02,\n",
       "       -6.00543395e-02,  7.92154446e-02,  4.79304977e-02, -3.90932225e-02,\n",
       "       -3.05708181e-02, -4.26266948e-03, -1.93211157e-02, -8.20937380e-02,\n",
       "        6.03648014e-02, -8.90016854e-02,  8.00626129e-02, -1.40610307e-01,\n",
       "        1.13561489e-01,  5.35319522e-02, -6.39080489e-03, -4.69538011e-02,\n",
       "       -2.90523022e-02,  5.83905866e-03, -1.35598585e-01,  7.72932023e-02,\n",
       "       -1.18547084e-03,  4.43781801e-02, -4.85030189e-02, -2.81230658e-02,\n",
       "       -6.04995191e-02, -5.76767586e-02, -3.53524126e-02, -2.82712672e-02,\n",
       "       -1.03151714e-02,  7.05340877e-02,  1.14559708e-02, -3.32191889e-03,\n",
       "       -4.82576936e-02,  2.82415897e-02,  2.69408915e-02, -3.65131833e-02,\n",
       "       -5.15242182e-02,  5.08139245e-02, -4.56295274e-02, -1.23457253e-01,\n",
       "       -1.36558032e-02,  5.68449087e-02,  1.14090167e-01, -1.86690371e-02,\n",
       "       -4.23052125e-02, -1.77129246e-02,  5.03336675e-02, -5.82760274e-02,\n",
       "        3.58181968e-02,  8.45828187e-03,  1.17163556e-02,  7.03361863e-03,\n",
       "        4.64024581e-02,  6.45261481e-02,  2.21970840e-03,  1.24122158e-01,\n",
       "       -1.33909797e-02,  3.06569017e-03, -4.28060815e-03,  5.47823720e-02,\n",
       "       -2.70940121e-02, -3.75764854e-02,  3.89026254e-02,  2.61683166e-02,\n",
       "        3.23482114e-03,  6.11826358e-03,  2.26923935e-02,  4.61811833e-02,\n",
       "       -1.89157892e-02, -1.11494802e-01,  7.99899474e-02, -6.73634335e-02,\n",
       "       -5.87422848e-02, -4.96002473e-02, -5.43810017e-02, -3.29400972e-02,\n",
       "        5.13378680e-02, -2.56739557e-02, -3.60659920e-02,  2.76081208e-02,\n",
       "       -7.20081255e-02, -7.87779838e-02, -3.72764021e-02, -1.13438480e-01,\n",
       "       -3.19987163e-02,  4.96147387e-02,  1.00332163e-01,  2.43882164e-02,\n",
       "       -6.49544084e-03, -6.05401583e-02, -7.84973577e-02, -1.62788015e-02,\n",
       "        2.21605273e-03,  8.60882103e-02,  7.94141740e-03, -1.01853572e-01,\n",
       "       -2.75794324e-02, -4.05919701e-02,  1.39472785e-03, -8.36436749e-02,\n",
       "       -2.52613313e-02, -7.65007455e-03, -8.56860727e-02, -4.78356369e-02,\n",
       "       -8.40802491e-02, -2.51712408e-02,  4.01670039e-02,  5.16930642e-03,\n",
       "        1.51520565e-01, -3.48115861e-02, -2.34206626e-03,  2.66791023e-02,\n",
       "       -2.18771413e-01, -1.18625164e-02, -2.34392043e-02, -3.55356894e-02,\n",
       "       -6.50842339e-02,  8.73073265e-02,  9.95374918e-02, -8.53816867e-02,\n",
       "       -2.49845665e-02,  7.95479026e-03,  1.28640220e-01,  5.93077727e-02,\n",
       "       -3.81621788e-03,  6.08792417e-02,  1.50538776e-02, -9.39977095e-02,\n",
       "       -5.68908751e-02,  6.95003138e-04, -5.46658039e-02,  1.44087046e-01],\n",
       "      dtype=float32)"
      ]
     },
     "execution_count": 136,
     "metadata": {},
     "output_type": "execute_result"
    }
   ],
   "source": [
    "# Simple test how a vector looks. it is pretty\n",
    "ft_model_wiki['Gruene']\n",
    "ft_model_cc_wiki['Gruene']"
   ]
  },
  {
   "cell_type": "code",
   "execution_count": 145,
   "metadata": {},
   "outputs": [
    {
     "data": {
      "text/html": [
       "<div>\n",
       "<style scoped>\n",
       "    .dataframe tbody tr th:only-of-type {\n",
       "        vertical-align: middle;\n",
       "    }\n",
       "\n",
       "    .dataframe tbody tr th {\n",
       "        vertical-align: top;\n",
       "    }\n",
       "\n",
       "    .dataframe thead th {\n",
       "        text-align: right;\n",
       "    }\n",
       "</style>\n",
       "<table border=\"1\" class=\"dataframe\">\n",
       "  <thead>\n",
       "    <tr style=\"text-align: right;\">\n",
       "      <th></th>\n",
       "      <th>Unnamed: 0</th>\n",
       "      <th>id</th>\n",
       "      <th>created_at</th>\n",
       "      <th>full_text</th>\n",
       "      <th>display_text_range</th>\n",
       "      <th>in_reply_to_user_id</th>\n",
       "      <th>in_reply_to_screen_name</th>\n",
       "      <th>is_quote_status</th>\n",
       "      <th>retweet_count</th>\n",
       "      <th>favorite_count</th>\n",
       "      <th>possibly_sensitive</th>\n",
       "    </tr>\n",
       "  </thead>\n",
       "  <tbody>\n",
       "    <tr>\n",
       "      <th>0</th>\n",
       "      <td>0</td>\n",
       "      <td>1468233562742788111</td>\n",
       "      <td>Tue Dec 07 14:58:54 +0000 2021</td>\n",
       "      <td>Mit dem #Koalitionsvertrag, den SPD, FDP und w...</td>\n",
       "      <td>[0, 226]</td>\n",
       "      <td>NaN</td>\n",
       "      <td>NaN</td>\n",
       "      <td>False</td>\n",
       "      <td>10</td>\n",
       "      <td>288</td>\n",
       "      <td>False</td>\n",
       "    </tr>\n",
       "    <tr>\n",
       "      <th>1</th>\n",
       "      <td>1</td>\n",
       "      <td>1466482642942054400</td>\n",
       "      <td>Thu Dec 02 19:01:22 +0000 2021</td>\n",
       "      <td>Mit der offiziellen Verabschiedung heute Abend...</td>\n",
       "      <td>[0, 153]</td>\n",
       "      <td>2.179011e+09</td>\n",
       "      <td>ABaerbock</td>\n",
       "      <td>False</td>\n",
       "      <td>92</td>\n",
       "      <td>6208</td>\n",
       "      <td>NaN</td>\n",
       "    </tr>\n",
       "    <tr>\n",
       "      <th>2</th>\n",
       "      <td>2</td>\n",
       "      <td>1466482641578999817</td>\n",
       "      <td>Thu Dec 02 19:01:22 +0000 2021</td>\n",
       "      <td>Sich selbst zurücknehmen zu können und in den ...</td>\n",
       "      <td>[0, 153]</td>\n",
       "      <td>2.179011e+09</td>\n",
       "      <td>ABaerbock</td>\n",
       "      <td>False</td>\n",
       "      <td>93</td>\n",
       "      <td>5288</td>\n",
       "      <td>NaN</td>\n",
       "    </tr>\n",
       "    <tr>\n",
       "      <th>3</th>\n",
       "      <td>3</td>\n",
       "      <td>1466482640102510601</td>\n",
       "      <td>Thu Dec 02 19:01:21 +0000 2021</td>\n",
       "      <td>Unser Land hat Angela Merkels politischer Ära ...</td>\n",
       "      <td>[0, 212]</td>\n",
       "      <td>NaN</td>\n",
       "      <td>NaN</td>\n",
       "      <td>False</td>\n",
       "      <td>384</td>\n",
       "      <td>10470</td>\n",
       "      <td>NaN</td>\n",
       "    </tr>\n",
       "    <tr>\n",
       "      <th>4</th>\n",
       "      <td>4</td>\n",
       "      <td>1464983672415608834</td>\n",
       "      <td>Sun Nov 28 15:45:00 +0000 2021</td>\n",
       "      <td>Jüdische Gemeinden in aller Welt feiern ab heu...</td>\n",
       "      <td>[0, 237]</td>\n",
       "      <td>NaN</td>\n",
       "      <td>NaN</td>\n",
       "      <td>False</td>\n",
       "      <td>183</td>\n",
       "      <td>3558</td>\n",
       "      <td>NaN</td>\n",
       "    </tr>\n",
       "  </tbody>\n",
       "</table>\n",
       "</div>"
      ],
      "text/plain": [
       "   Unnamed: 0                   id                      created_at  \\\n",
       "0           0  1468233562742788111  Tue Dec 07 14:58:54 +0000 2021   \n",
       "1           1  1466482642942054400  Thu Dec 02 19:01:22 +0000 2021   \n",
       "2           2  1466482641578999817  Thu Dec 02 19:01:22 +0000 2021   \n",
       "3           3  1466482640102510601  Thu Dec 02 19:01:21 +0000 2021   \n",
       "4           4  1464983672415608834  Sun Nov 28 15:45:00 +0000 2021   \n",
       "\n",
       "                                           full_text display_text_range  \\\n",
       "0  Mit dem #Koalitionsvertrag, den SPD, FDP und w...           [0, 226]   \n",
       "1  Mit der offiziellen Verabschiedung heute Abend...           [0, 153]   \n",
       "2  Sich selbst zurücknehmen zu können und in den ...           [0, 153]   \n",
       "3  Unser Land hat Angela Merkels politischer Ära ...           [0, 212]   \n",
       "4  Jüdische Gemeinden in aller Welt feiern ab heu...           [0, 237]   \n",
       "\n",
       "   in_reply_to_user_id in_reply_to_screen_name  is_quote_status  \\\n",
       "0                  NaN                     NaN            False   \n",
       "1         2.179011e+09               ABaerbock            False   \n",
       "2         2.179011e+09               ABaerbock            False   \n",
       "3                  NaN                     NaN            False   \n",
       "4                  NaN                     NaN            False   \n",
       "\n",
       "   retweet_count  favorite_count possibly_sensitive  \n",
       "0             10             288              False  \n",
       "1             92            6208                NaN  \n",
       "2             93            5288                NaN  \n",
       "3            384           10470                NaN  \n",
       "4            183            3558                NaN  "
      ]
     },
     "execution_count": 145,
     "metadata": {},
     "output_type": "execute_result"
    }
   ],
   "source": [
    "# load in Annalena Baerbock tweets \n",
    "annalena = pd.read_csv(\"baerbock_tweets.csv\")\n",
    "annalena.head()\n"
   ]
  },
  {
   "cell_type": "code",
   "execution_count": 146,
   "metadata": {},
   "outputs": [],
   "source": [
    "#mit einem fake sample tweet\n",
    "\n",
    "cleaned_programm = gensim.utils.simple_preprocess(programme)\n",
    "cleaned_tweet = gensim.utils.simple_preprocess(\"Karl Lauterbach hat ne geile Fliege und die ist rot\")\n",
    "\n",
    "program_vector = np.mean([ft_model[word] for word in cleaned_programm], axis = 0).reshape(1,-1)\n",
    "tweet_vector = np.mean([ft_model[word] for word in cleaned_tweet], axis = 0).reshape(1,-1)"
   ]
  },
  {
   "cell_type": "code",
   "execution_count": 147,
   "metadata": {},
   "outputs": [
    {
     "data": {
      "text/plain": [
       "array([[0.71076447]], dtype=float32)"
      ]
     },
     "execution_count": 147,
     "metadata": {},
     "output_type": "execute_result"
    }
   ],
   "source": [
    "cosine_similarity(program_vector, tweet_vector)"
   ]
  },
  {
   "cell_type": "code",
   "execution_count": 155,
   "metadata": {},
   "outputs": [],
   "source": [
    "# okay let's code a function to pump this through\n",
    "\n",
    "\n",
    "def get_similarities(party_programme, tweet_df, lang_model):\n",
    "\n",
    "    #clean up the party program and the tweets\n",
    "    cleaned_programm = gensim.utils.simple_preprocess(party_programme)\n",
    "    cleaned_tweets = [gensim.utils.simple_preprocess(doc) for doc in tweet_df['full_text'].values]\n",
    "\n",
    "    #calculate the document vector for the entire party programme (across the axis dimensions)\n",
    "    program_vector = np.mean([lang_model[word] for word in cleaned_programm], axis = 0).reshape(1,-1)\n",
    "\n",
    "    similarity_list = []\n",
    "    #for each tweet\n",
    "    for tweet in cleaned_tweets:\n",
    "\n",
    "        #calculate the mean vector\n",
    "        tweet_vector = np.mean([lang_model[word] for word in tweet], axis = 0).reshape(1,-1)\n",
    "\n",
    "        #add to the final list\n",
    "        similarity_list.append(cosine_similarity(program_vector,tweet_vector)[0][0])\n",
    "\n",
    "    #add to the input df\n",
    "    tweet_df['cleaned_tweets'] = cleaned_tweets\n",
    "    tweet_df['w2v_cosine_similarity'] = similarity_list\n",
    "\n",
    "    #return the df\n",
    "    return tweet_df\n"
   ]
  },
  {
   "cell_type": "code",
   "execution_count": 161,
   "metadata": {},
   "outputs": [
    {
     "data": {
      "text/plain": [
       "0.9076747335074993"
      ]
     },
     "execution_count": 161,
     "metadata": {},
     "output_type": "execute_result"
    }
   ],
   "source": [
    "out_df = get_similarities(programme, annalena, ft_model_cc_wiki)\n",
    "\n",
    "np.mean(out_df.w2v_cosine_similarity)"
   ]
  },
  {
   "cell_type": "code",
   "execution_count": 158,
   "metadata": {},
   "outputs": [
    {
     "data": {
      "text/plain": [
       "(array([ 3.,  0.,  1.,  2.,  3.,  4.,  5., 22., 79., 59.]),\n",
       " array([0.65060306, 0.68171213, 0.7128212 , 0.74393027, 0.77503934,\n",
       "        0.80614841, 0.83725748, 0.86836655, 0.89947562, 0.93058469,\n",
       "        0.96169376]),\n",
       " <BarContainer object of 10 artists>)"
      ]
     },
     "execution_count": 158,
     "metadata": {},
     "output_type": "execute_result"
    },
    {
     "data": {
      "image/png": "[encoded data removed]",
      "text/plain": [
       "<Figure size 432x288 with 1 Axes>"
      ]
     },
     "metadata": {
      "needs_background": "light"
     },
     "output_type": "display_data"
    }
   ],
   "source": [
    "plt.hist(out_df.w2v_cosine_similarity)"
   ]
  },
  {
   "cell_type": "code",
   "execution_count": 159,
   "metadata": {},
   "outputs": [
    {
     "data": {
      "text/plain": [
       "[<matplotlib.lines.Line2D at 0x7ff34c19bcd0>]"
      ]
     },
     "execution_count": 159,
     "metadata": {},
     "output_type": "execute_result"
    },
    {
     "data": {
      "image/png": "[encoded data removed]",
      "text/plain": [
       "<Figure size 432x288 with 1 Axes>"
      ]
     },
     "metadata": {
      "needs_background": "light"
     },
     "output_type": "display_data"
    }
   ],
   "source": [
    "plt.plot(out_df['created_at'], out_df.w2v_cosine_similarity)"
   ]
  },
  {
   "cell_type": "code",
   "execution_count": null,
   "metadata": {},
   "outputs": [],
   "source": []
  }
 ],
 "metadata": {
  "interpreter": {
   "hash": "98a2b17e149e4e8a0b6acf04d01298b022c80a24b0767a95d910142ef5b4f869"
  },
  "kernelspec": {
   "display_name": "Python 3.8.5 64-bit ('base': conda)",
   "language": "python",
   "name": "python3"
  },
  "language_info": {
   "codemirror_mode": {
    "name": "ipython",
    "version": 3
   },
   "file_extension": ".py",
   "mimetype": "text/x-python",
   "name": "python",
   "nbconvert_exporter": "python",
   "pygments_lexer": "ipython3",
   "version": "3.8.5"
  },
  "orig_nbformat": 4
 },
 "nbformat": 4,
 "nbformat_minor": 2
}
