{
 "cells": [
  {
   "cell_type": "markdown",
   "metadata": {},
   "source": [
    "# Compare tweets and party programs\n",
    "\n",
    "https://github.com/adsieg/text_similarity/blob/master/Different%20Embeddings%20%2B%20Cosine%20Similarity%20%2B%20HeatMap%20illustration.ipynb \n",
    "\n",
    "https://www.machinelearningplus.com/nlp/cosine-similarity/\n"
   ]
  },
  {
   "cell_type": "code",
   "execution_count": 34,
   "metadata": {},
   "outputs": [],
   "source": [
    "import numpy as np\n",
    "import matplotlib.pyplot as plt\n",
    "import pandas as pd\n",
    "import datetime \n",
    "import nltk\n",
    "from sklearn.feature_extraction.text import CountVectorizer, TfidfVectorizer\n",
    "import gensim\n",
    "from gensim.models import Word2Vec"
   ]
  },
  {
   "cell_type": "code",
   "execution_count": 20,
   "metadata": {},
   "outputs": [],
   "source": [
    "programme = open('party_programmes/gruene.txt', \"r\").read()\n",
    "\n",
    "programme = programme.strip()"
   ]
  },
  {
   "cell_type": "code",
   "execution_count": 16,
   "metadata": {},
   "outputs": [],
   "source": [
    "for_comp = [programme, \"Karl Lauterbach soll Gesundheitsminister werden.\", \"Klimawandel ist ein wichtiges Thema\"] #comparig the program with two sample sentences"
   ]
  },
  {
   "cell_type": "code",
   "execution_count": 56,
   "metadata": {},
   "outputs": [
    {
     "data": {
      "text/html": [
       "<div>\n",
       "<style scoped>\n",
       "    .dataframe tbody tr th:only-of-type {\n",
       "        vertical-align: middle;\n",
       "    }\n",
       "\n",
       "    .dataframe tbody tr th {\n",
       "        vertical-align: top;\n",
       "    }\n",
       "\n",
       "    .dataframe thead th {\n",
       "        text-align: right;\n",
       "    }\n",
       "</style>\n",
       "<table border=\"1\" class=\"dataframe\">\n",
       "  <thead>\n",
       "    <tr style=\"text-align: right;\">\n",
       "      <th></th>\n",
       "      <th>000</th>\n",
       "      <th>030</th>\n",
       "      <th>10</th>\n",
       "      <th>100</th>\n",
       "      <th>101</th>\n",
       "      <th>10115</th>\n",
       "      <th>102</th>\n",
       "      <th>103</th>\n",
       "      <th>104</th>\n",
       "      <th>105</th>\n",
       "      <th>...</th>\n",
       "      <th>überzeugte</th>\n",
       "      <th>überzeugung</th>\n",
       "      <th>überzugehen</th>\n",
       "      <th>üblichen</th>\n",
       "      <th>übrig</th>\n",
       "      <th>übrige</th>\n",
       "      <th>übten</th>\n",
       "      <th>übung</th>\n",
       "      <th>übungsleiter</th>\n",
       "      <th>ülkücü</th>\n",
       "    </tr>\n",
       "  </thead>\n",
       "  <tbody>\n",
       "    <tr>\n",
       "      <th>programme</th>\n",
       "      <td>18</td>\n",
       "      <td>2</td>\n",
       "      <td>26</td>\n",
       "      <td>22</td>\n",
       "      <td>6</td>\n",
       "      <td>2</td>\n",
       "      <td>5</td>\n",
       "      <td>8</td>\n",
       "      <td>5</td>\n",
       "      <td>9</td>\n",
       "      <td>...</td>\n",
       "      <td>1</td>\n",
       "      <td>2</td>\n",
       "      <td>1</td>\n",
       "      <td>1</td>\n",
       "      <td>1</td>\n",
       "      <td>1</td>\n",
       "      <td>1</td>\n",
       "      <td>1</td>\n",
       "      <td>1</td>\n",
       "      <td>1</td>\n",
       "    </tr>\n",
       "    <tr>\n",
       "      <th>Lauterbach</th>\n",
       "      <td>0</td>\n",
       "      <td>0</td>\n",
       "      <td>0</td>\n",
       "      <td>0</td>\n",
       "      <td>0</td>\n",
       "      <td>0</td>\n",
       "      <td>0</td>\n",
       "      <td>0</td>\n",
       "      <td>0</td>\n",
       "      <td>0</td>\n",
       "      <td>...</td>\n",
       "      <td>0</td>\n",
       "      <td>0</td>\n",
       "      <td>0</td>\n",
       "      <td>0</td>\n",
       "      <td>0</td>\n",
       "      <td>0</td>\n",
       "      <td>0</td>\n",
       "      <td>0</td>\n",
       "      <td>0</td>\n",
       "      <td>0</td>\n",
       "    </tr>\n",
       "    <tr>\n",
       "      <th>Klima</th>\n",
       "      <td>0</td>\n",
       "      <td>0</td>\n",
       "      <td>0</td>\n",
       "      <td>0</td>\n",
       "      <td>0</td>\n",
       "      <td>0</td>\n",
       "      <td>0</td>\n",
       "      <td>0</td>\n",
       "      <td>0</td>\n",
       "      <td>0</td>\n",
       "      <td>...</td>\n",
       "      <td>0</td>\n",
       "      <td>0</td>\n",
       "      <td>0</td>\n",
       "      <td>0</td>\n",
       "      <td>0</td>\n",
       "      <td>0</td>\n",
       "      <td>0</td>\n",
       "      <td>0</td>\n",
       "      <td>0</td>\n",
       "      <td>0</td>\n",
       "    </tr>\n",
       "  </tbody>\n",
       "</table>\n",
       "<p>3 rows × 13712 columns</p>\n",
       "</div>"
      ],
      "text/plain": [
       "            000  030  10  100  101  10115  102  103  104  105  ...  \\\n",
       "programme    18    2  26   22    6      2    5    8    5    9  ...   \n",
       "Lauterbach    0    0   0    0    0      0    0    0    0    0  ...   \n",
       "Klima         0    0   0    0    0      0    0    0    0    0  ...   \n",
       "\n",
       "            überzeugte  überzeugung  überzugehen  üblichen  übrig  übrige  \\\n",
       "programme            1            2            1         1      1       1   \n",
       "Lauterbach           0            0            0         0      0       0   \n",
       "Klima                0            0            0         0      0       0   \n",
       "\n",
       "            übten  übung  übungsleiter  ülkücü  \n",
       "programme       1      1             1       1  \n",
       "Lauterbach      0      0             0       0  \n",
       "Klima           0      0             0       0  \n",
       "\n",
       "[3 rows x 13712 columns]"
      ]
     },
     "execution_count": 56,
     "metadata": {},
     "output_type": "execute_result"
    }
   ],
   "source": [
    "# Create the Document Term Matrix\n",
    "#stole this code from here: https://www.machinelearningplus.com/nlp/cosine-similarity/  \n",
    "\n",
    "\n",
    "count_vectorizer = CountVectorizer() ## need to remove stopwords and use TfidfVectorizer instead?? \n",
    "sparse_matrix = count_vectorizer.fit_transform(for_comp)\n",
    "\n",
    "# OPTIONAL: Convert Sparse Matrix to Pandas Dataframe if you want to see the word frequencies.\n",
    "doc_term_matrix = sparse_matrix.todense()\n",
    "df = pd.DataFrame(doc_term_matrix, \n",
    "                  columns=count_vectorizer.get_feature_names(), \n",
    "                  index=['programme', 'Lauterbach', 'Klima'])\n",
    "df\n"
   ]
  },
  {
   "cell_type": "code",
   "execution_count": 59,
   "metadata": {},
   "outputs": [
    {
     "name": "stdout",
     "output_type": "stream",
     "text": [
      "[[1.         0.06450307 0.06484987]\n",
      " [0.06450307 1.         0.        ]\n",
      " [0.06484987 0.         1.        ]]\n"
     ]
    }
   ],
   "source": [
    "from sklearn.metrics.pairwise import cosine_similarity\n",
    "print(cosine_similarity(df, df))"
   ]
  },
  {
   "cell_type": "code",
   "execution_count": 39,
   "metadata": {},
   "outputs": [],
   "source": [
    "# get pre-trained model\n",
    "\n",
    "# downloaded a German word embedding model from http://devmount.github.io/GermanWordEmbeddings/#download \n",
    "# das github von dem dude: https://github.com/devmount/GermanWordEmbeddings/blob/master/code/pca.ipynb\n",
    "\n",
    "model = gensim.models.KeyedVectors.load_word2vec_format(\"/Users/johannes/Downloads/german.model\", binary=True) # i know you guys didn't download it yet but just testing things. "
   ]
  },
  {
   "cell_type": "markdown",
   "metadata": {},
   "source": [
    "What I would need to do, to make this work:\n",
    "- Get a better embedding model for German language (given that this model doesn't even contain Baerbock)\n",
    "- Loop each word into the model and calculate the mean (or weighted mean)\n",
    "- then calculate the scipy distance \n",
    "- this can work. currently the main thing is the German Language Model."
   ]
  },
  {
   "cell_type": "code",
   "execution_count": 70,
   "metadata": {},
   "outputs": [
    {
     "ename": "ValueError",
     "evalue": "shapes (2,300) and (2,300) not aligned: 300 (dim 1) != 2 (dim 0)",
     "output_type": "error",
     "traceback": [
      "\u001b[0;31m---------------------------------------------------------------------------\u001b[0m",
      "\u001b[0;31mValueError\u001b[0m                                Traceback (most recent call last)",
      "\u001b[0;32m<ipython-input-70-f0f7c9e1025c>\u001b[0m in \u001b[0;36m<module>\u001b[0;34m\u001b[0m\n\u001b[1;32m      1\u001b[0m \u001b[0;31m#how to use the model to compare thing\u001b[0m\u001b[0;34m\u001b[0m\u001b[0;34m\u001b[0m\u001b[0;34m\u001b[0m\u001b[0m\n\u001b[0;32m----> 2\u001b[0;31m \u001b[0mmodel\u001b[0m\u001b[0;34m.\u001b[0m\u001b[0mcosine_similarities\u001b[0m\u001b[0;34m(\u001b[0m\u001b[0;34m[\u001b[0m\u001b[0mmodel\u001b[0m\u001b[0;34m[\u001b[0m\u001b[0;34m\"Gruen\"\u001b[0m\u001b[0;34m]\u001b[0m\u001b[0;34m,\u001b[0m \u001b[0mmodel\u001b[0m\u001b[0;34m[\u001b[0m\u001b[0;34m\"Apfel\"\u001b[0m\u001b[0;34m]\u001b[0m\u001b[0;34m]\u001b[0m\u001b[0;34m,\u001b[0m \u001b[0;34m[\u001b[0m\u001b[0mmodel\u001b[0m\u001b[0;34m[\u001b[0m\u001b[0;34m\"Birne\"\u001b[0m\u001b[0;34m]\u001b[0m\u001b[0;34m,\u001b[0m \u001b[0mmodel\u001b[0m\u001b[0;34m[\u001b[0m\u001b[0;34m'Obst'\u001b[0m\u001b[0;34m]\u001b[0m\u001b[0;34m]\u001b[0m\u001b[0;34m)\u001b[0m\u001b[0;34m\u001b[0m\u001b[0;34m\u001b[0m\u001b[0m\n\u001b[0m",
      "\u001b[0;32m~/opt/anaconda3/lib/python3.8/site-packages/gensim/models/keyedvectors.py\u001b[0m in \u001b[0;36mcosine_similarities\u001b[0;34m(vector_1, vectors_all)\u001b[0m\n\u001b[1;32m   1079\u001b[0m         \u001b[0mnorm\u001b[0m \u001b[0;34m=\u001b[0m \u001b[0mnp\u001b[0m\u001b[0;34m.\u001b[0m\u001b[0mlinalg\u001b[0m\u001b[0;34m.\u001b[0m\u001b[0mnorm\u001b[0m\u001b[0;34m(\u001b[0m\u001b[0mvector_1\u001b[0m\u001b[0;34m)\u001b[0m\u001b[0;34m\u001b[0m\u001b[0;34m\u001b[0m\u001b[0m\n\u001b[1;32m   1080\u001b[0m         \u001b[0mall_norms\u001b[0m \u001b[0;34m=\u001b[0m \u001b[0mnp\u001b[0m\u001b[0;34m.\u001b[0m\u001b[0mlinalg\u001b[0m\u001b[0;34m.\u001b[0m\u001b[0mnorm\u001b[0m\u001b[0;34m(\u001b[0m\u001b[0mvectors_all\u001b[0m\u001b[0;34m,\u001b[0m \u001b[0maxis\u001b[0m\u001b[0;34m=\u001b[0m\u001b[0;36m1\u001b[0m\u001b[0;34m)\u001b[0m\u001b[0;34m\u001b[0m\u001b[0;34m\u001b[0m\u001b[0m\n\u001b[0;32m-> 1081\u001b[0;31m         \u001b[0mdot_products\u001b[0m \u001b[0;34m=\u001b[0m \u001b[0mdot\u001b[0m\u001b[0;34m(\u001b[0m\u001b[0mvectors_all\u001b[0m\u001b[0;34m,\u001b[0m \u001b[0mvector_1\u001b[0m\u001b[0;34m)\u001b[0m\u001b[0;34m\u001b[0m\u001b[0;34m\u001b[0m\u001b[0m\n\u001b[0m\u001b[1;32m   1082\u001b[0m         \u001b[0msimilarities\u001b[0m \u001b[0;34m=\u001b[0m \u001b[0mdot_products\u001b[0m \u001b[0;34m/\u001b[0m \u001b[0;34m(\u001b[0m\u001b[0mnorm\u001b[0m \u001b[0;34m*\u001b[0m \u001b[0mall_norms\u001b[0m\u001b[0;34m)\u001b[0m\u001b[0;34m\u001b[0m\u001b[0;34m\u001b[0m\u001b[0m\n\u001b[1;32m   1083\u001b[0m         \u001b[0;32mreturn\u001b[0m \u001b[0msimilarities\u001b[0m\u001b[0;34m\u001b[0m\u001b[0;34m\u001b[0m\u001b[0m\n",
      "\u001b[0;32m<__array_function__ internals>\u001b[0m in \u001b[0;36mdot\u001b[0;34m(*args, **kwargs)\u001b[0m\n",
      "\u001b[0;31mValueError\u001b[0m: shapes (2,300) and (2,300) not aligned: 300 (dim 1) != 2 (dim 0)"
     ]
    }
   ],
   "source": [
    "#how to use the model to compare thing\n",
    "\n",
    "model.cosine_similarities([model[\"Gruen\"], model[\"Apfel\"]], [model[\"Birne\"], model['Obst']])"
   ]
  },
  {
   "cell_type": "code",
   "execution_count": 67,
   "metadata": {},
   "outputs": [
    {
     "data": {
      "text/plain": [
       "array([ 2.08690360e-01, -6.12975657e-02, -2.97141492e-01,  1.45307742e-03,\n",
       "       -7.63233751e-02, -5.18886968e-02,  7.78750628e-02,  1.98908016e-01,\n",
       "        7.76090547e-02,  9.99966040e-02,  9.44532081e-02,  3.21392179e-01,\n",
       "       -7.84867257e-02,  4.86328632e-01, -9.03172567e-02, -3.66097465e-02,\n",
       "       -5.88806450e-01,  3.79407592e-02,  6.56880140e-01, -1.46217406e-01,\n",
       "       -1.95580006e-01,  1.87570125e-01,  2.16409504e-01, -1.18603222e-01,\n",
       "        8.77544433e-02, -1.84295893e-01,  1.69145748e-01, -9.70354453e-02,\n",
       "        2.33345330e-01, -1.66936725e-01,  5.74703477e-02,  2.79082775e-01,\n",
       "       -3.59801799e-01, -1.19328283e-01, -3.28988731e-02,  3.81075799e-01,\n",
       "       -1.75742641e-01, -2.03005522e-02, -1.85599431e-01,  3.87772262e-01,\n",
       "        5.80045022e-02,  1.74866214e-01,  6.89402446e-02,  5.49466349e-02,\n",
       "        5.66649288e-02,  1.20403804e-01, -2.57506907e-01,  9.26879421e-02,\n",
       "       -2.47040335e-02, -1.05411351e-01,  2.21234009e-01,  5.12401350e-02,\n",
       "        1.13349386e-01, -1.21578336e-01,  9.05913711e-02,  9.08124968e-02,\n",
       "        3.66145849e-01, -7.91337993e-03, -2.77302921e-01,  5.61106354e-02,\n",
       "        3.21471989e-01, -3.27709615e-01, -9.20983851e-02, -2.03754097e-01,\n",
       "        1.35003692e-02,  3.62378985e-01, -8.82944167e-02, -3.12342383e-02,\n",
       "        3.59959513e-01, -1.40252993e-01,  5.87238520e-02,  1.57452468e-02,\n",
       "       -4.42369319e-02,  1.44048899e-01, -4.42383513e-02,  3.12010795e-02,\n",
       "        1.51685968e-01,  2.62333721e-01, -3.50357704e-02,  7.35036805e-02,\n",
       "       -2.81341851e-01,  2.31433868e-01,  9.94205251e-02,  1.07752465e-01,\n",
       "        4.42404628e-01,  5.48624657e-02, -3.21121871e-01, -4.58020205e-03,\n",
       "       -3.39182839e-02,  2.18992814e-01, -6.36960268e-02, -4.38983738e-02,\n",
       "       -2.61470675e-01, -1.76097192e-02,  5.31556690e-03,  4.98914458e-02,\n",
       "        4.76094857e-02,  9.46080238e-02, -4.46503051e-02,  5.03077328e-01,\n",
       "        2.46618956e-01, -1.32185534e-01, -3.71645451e-01,  1.52394667e-01,\n",
       "       -1.05858847e-01,  2.19813362e-01, -1.78848922e-01, -2.09447756e-01,\n",
       "       -3.77443284e-02,  3.61672938e-01,  3.85798812e-01,  2.09133357e-01,\n",
       "        1.65609062e-01, -6.23414963e-02,  2.90831089e-01,  1.41406311e-02,\n",
       "       -1.38829768e-01,  9.80593357e-03, -4.09906268e-01, -2.88806528e-01,\n",
       "        9.67278183e-02, -2.53539830e-01,  3.34719509e-01, -7.11602718e-03,\n",
       "        3.72907102e-01, -1.18331008e-01,  2.24413708e-01, -3.96609247e-01,\n",
       "        5.04568100e-01,  5.04667938e-01,  1.65571719e-01, -2.94881523e-01,\n",
       "       -2.17669860e-01, -1.74059525e-01, -3.36946249e-01, -8.65766853e-02,\n",
       "        6.09950610e-02, -9.53384936e-02, -3.17714334e-01, -1.95835218e-01,\n",
       "        2.95390934e-01, -3.75498994e-03,  3.41169327e-01,  1.08435579e-01,\n",
       "       -1.16244564e-02, -4.44420911e-02, -2.00556800e-01,  2.23181713e-02,\n",
       "        1.91449046e-01,  2.05140576e-01, -3.47052957e-03, -1.37089640e-01,\n",
       "        4.06399043e-03,  9.71865878e-02,  1.65231526e-02, -1.50996596e-01,\n",
       "       -1.02393441e-01,  5.76568134e-02,  6.27229273e-01,  2.99921542e-01,\n",
       "       -3.15508753e-01, -1.00155674e-01,  2.73682237e-01,  5.29505201e-02,\n",
       "       -2.79047471e-02,  3.60691249e-02,  2.08665669e-01, -1.89251468e-01,\n",
       "        5.97803444e-02,  5.67600736e-03,  2.14026839e-01,  8.34980533e-02,\n",
       "       -1.68020744e-02,  1.17790915e-01,  1.50802061e-01,  2.85740912e-01,\n",
       "        1.62311848e-02, -1.20787062e-01,  2.71026820e-01, -6.51847944e-02,\n",
       "       -7.68051371e-02, -5.81791773e-02,  2.89976150e-01, -4.15777445e-01,\n",
       "        1.96722269e-01,  1.88449994e-01,  1.36388853e-01,  6.25269338e-02,\n",
       "       -8.60830769e-02,  1.36403322e-01, -2.81310469e-01,  5.00092864e-01,\n",
       "        1.10183619e-01, -7.03129694e-02, -1.86094165e-01,  2.10389728e-03,\n",
       "        5.98952733e-02,  1.45980299e-01,  4.25547585e-02,  4.59017307e-02,\n",
       "       -3.99796888e-02, -5.19949826e-04,  3.32317613e-02, -5.33560514e-01,\n",
       "       -1.36081725e-01,  1.48009598e-01,  2.14593336e-01,  4.46583867e-01,\n",
       "       -8.63020346e-02,  5.09294212e-01,  5.71152829e-02,  1.37052685e-01,\n",
       "       -1.00991569e-01, -7.29249194e-02, -2.36519232e-01, -3.95292461e-01,\n",
       "        4.08152133e-01,  7.98856616e-02,  1.72843769e-01, -4.27785039e-01,\n",
       "        8.65559056e-02, -5.60924336e-02, -1.11053951e-01,  3.60756785e-01,\n",
       "        5.01251891e-02,  1.47720590e-01,  4.32193995e-01,  2.29460612e-01,\n",
       "        2.66000271e-01,  1.34925976e-01,  4.06257838e-01,  1.37100965e-01,\n",
       "       -2.40256116e-02,  6.84980350e-03, -1.08879291e-01,  1.55660391e-01,\n",
       "        3.14512700e-02, -2.05799416e-01,  1.08159445e-01, -3.33945513e-01,\n",
       "        2.22544938e-01, -1.13290966e-01,  1.77521273e-01, -1.19439714e-01,\n",
       "       -2.02079028e-01,  5.00862151e-02, -2.94568956e-01,  1.17366277e-01,\n",
       "       -2.40178689e-01, -2.10208952e-01,  2.19079480e-01,  3.91605794e-01,\n",
       "       -2.06073850e-01,  3.82547677e-02,  2.49862298e-01, -7.50375465e-02,\n",
       "        2.44846284e-01,  7.90732577e-02,  1.08905360e-01,  1.04614064e-01,\n",
       "       -2.02416077e-01, -3.72230679e-01, -9.63943154e-02, -1.63927853e-01,\n",
       "       -3.32298689e-02, -7.95169696e-02,  1.56381860e-01,  1.23715572e-01,\n",
       "       -1.70106307e-01, -4.18057404e-02,  8.28123242e-02, -4.38611396e-02,\n",
       "        3.09439391e-01,  1.97843999e-01, -2.93130428e-01, -2.21043378e-02,\n",
       "       -3.23978841e-01, -1.31217405e-01,  6.86333105e-02, -7.25179315e-02,\n",
       "        1.86387911e-01, -3.32461178e-01,  1.91039756e-01,  1.04659133e-01,\n",
       "        6.46083057e-02,  1.37561873e-01,  1.54954746e-01,  2.61837751e-01,\n",
       "        6.82718903e-02, -1.82480335e-01,  4.42070842e-01,  3.15970600e-01,\n",
       "       -7.11964890e-02, -1.76400766e-01,  1.65897816e-01,  2.18202233e-01,\n",
       "       -6.99544176e-02,  2.34389931e-01, -4.92507173e-03, -1.04378209e-01],\n",
       "      dtype=float32)"
      ]
     },
     "execution_count": 67,
     "metadata": {},
     "output_type": "execute_result"
    }
   ],
   "source": [
    "#anscheinend hat dieses kack model keine ahnung wer Baerbock ist...\n",
    "model['Annalena']"
   ]
  },
  {
   "cell_type": "code",
   "execution_count": null,
   "metadata": {},
   "outputs": [],
   "source": []
  }
 ],
 "metadata": {
  "interpreter": {
   "hash": "98a2b17e149e4e8a0b6acf04d01298b022c80a24b0767a95d910142ef5b4f869"
  },
  "kernelspec": {
   "display_name": "Python 3.8.5 64-bit ('base': conda)",
   "language": "python",
   "name": "python3"
  },
  "language_info": {
   "codemirror_mode": {
    "name": "ipython",
    "version": 3
   },
   "file_extension": ".py",
   "mimetype": "text/x-python",
   "name": "python",
   "nbconvert_exporter": "python",
   "pygments_lexer": "ipython3",
   "version": "3.8.5"
  },
  "orig_nbformat": 4
 },
 "nbformat": 4,
 "nbformat_minor": 2
}
