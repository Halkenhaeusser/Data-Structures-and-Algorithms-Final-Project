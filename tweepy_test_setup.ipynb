{
 "cells": [
  {
   "cell_type": "code",
   "execution_count": 46,
   "metadata": {},
   "outputs": [
    {
     "name": "stdout",
     "output_type": "stream",
     "text": [
      "Collecting pandas\n",
      "  Downloading pandas-1.3.4-cp37-cp37m-macosx_10_9_x86_64.whl (11.3 MB)\n",
      "\u001b[K     |████████████████████████████████| 11.3 MB 32.6 MB/s \n",
      "\u001b[?25hCollecting pytz>=2017.3\n",
      "  Downloading pytz-2021.3-py2.py3-none-any.whl (503 kB)\n",
      "\u001b[K     |████████████████████████████████| 503 kB 14.8 MB/s \n",
      "\u001b[?25hCollecting numpy>=1.17.3; platform_machine != \"aarch64\" and platform_machine != \"arm64\" and python_version < \"3.10\"\n",
      "  Downloading numpy-1.21.4-cp37-cp37m-macosx_10_9_x86_64.whl (16.9 MB)\n",
      "\u001b[K     |████████████████████████████████| 16.9 MB 5.6 MB/s \n",
      "\u001b[?25hRequirement already satisfied: python-dateutil>=2.7.3 in /Users/elweeh/Library/r-miniconda/lib/python3.7/site-packages (from pandas) (2.8.2)\n",
      "Requirement already satisfied: six>=1.5 in /Users/elweeh/Library/r-miniconda/lib/python3.7/site-packages (from python-dateutil>=2.7.3->pandas) (1.15.0)\n",
      "Installing collected packages: pytz, numpy, pandas\n",
      "Successfully installed numpy-1.21.4 pandas-1.3.4 pytz-2021.3\n"
     ]
    }
   ],
   "source": [
    "#!pip install tweepy\n",
    "!pip install pandas"
   ]
  },
  {
   "cell_type": "code",
   "execution_count": 52,
   "metadata": {},
   "outputs": [],
   "source": [
    "import tweepy\n",
    "import pandas as pd"
   ]
  },
  {
   "cell_type": "code",
   "execution_count": 47,
   "metadata": {},
   "outputs": [],
   "source": [
    "auth = tweepy.OAuthHandler(\n",
    "    consumer_key,\n",
    "    consumer_secret\n",
    ")\n",
    "\n",
    "auth.set_access_token(\n",
    "    access_token,\n",
    "    access_token_secret\n",
    ")\n",
    "\n",
    "api = tweepy.API(auth, wait_on_rate_limit=True)"
   ]
  },
  {
   "cell_type": "code",
   "execution_count": 48,
   "metadata": {},
   "outputs": [
    {
     "name": "stdout",
     "output_type": "stream",
     "text": [
      "Authentication OK\n"
     ]
    }
   ],
   "source": [
    "try:\n",
    "    api.verify_credentials()\n",
    "    print(\"Authentication OK\")\n",
    "except:\n",
    "    print(\"Error during authentication\")"
   ]
  },
  {
   "cell_type": "code",
   "execution_count": null,
   "metadata": {},
   "outputs": [],
   "source": [
    "tweets = api.user_timeline(\n",
    "    screen_name = \"lukas_warode\",\n",
    "    count = 1,\n",
    "    include_rts = False,\n",
    "    tweet_mode = 'extended'\n",
    ")\n",
    "\n",
    "print(tweets)                            "
   ]
  },
  {
   "cell_type": "code",
   "execution_count": 44,
   "metadata": {},
   "outputs": [
    {
     "data": {
      "text/plain": [
       "tweepy.models.ResultSet"
      ]
     },
     "execution_count": 44,
     "metadata": {},
     "output_type": "execute_result"
    }
   ],
   "source": [
    "type(tweets)"
   ]
  },
  {
   "cell_type": "code",
   "execution_count": 49,
   "metadata": {},
   "outputs": [],
   "source": [
    "try:\n",
    "    redirect_url = auth.get_authorization_url()\n",
    "except tweepy.TweepError:\n",
    "    print('Error! Failed to get request token.')"
   ]
  },
  {
   "cell_type": "code",
   "execution_count": 117,
   "metadata": {},
   "outputs": [
    {
     "name": "stdout",
     "output_type": "stream",
     "text": [
      "petrapaumahe\n"
     ]
    }
   ],
   "source": [
    "# Sample tweets\n",
    "wzb_df = pd.read_csv(\"https://raw.githubusercontent.com/WZBSocialScienceCenter/mdb-twitter-network/master/data/deputies_twitter_20190702.csv\")\n",
    "\n",
    "twitter_df = wzb_df[[\"twitter_name\"]].dropna()\n",
    "\n",
    "# print(twitter_series)\n",
    "\n",
    "twitter_sample = twitter_df.sample(n = 1)\n",
    "# twitter_sample = twitter_sample.loc[:, \"twitter_name\"]\n",
    "\n",
    "# print(twitter_sample)\n",
    "# twitter_sample = twitter_sample.rename_axis(index = None)\n",
    "\n",
    "twitter_string = twitter_sample.to_string(index = False, header = False)\n",
    "\n",
    "print(twitter_string)\n",
    "# type(twitter_string)\n"
   ]
  },
  {
   "cell_type": "code",
   "execution_count": 125,
   "metadata": {},
   "outputs": [
    {
     "data": {
      "text/plain": [
       "[Status(_api=<tweepy.api.API object at 0x7f979fc6bf90>, _json={'created_at': 'Wed Nov 24 23:52:47 +0000 2021', 'id': 1463656878169374726, 'id_str': '1463656878169374726', 'full_text': 'Doch schon? #KeinSchlussstrich Höchste Zeit für einen #NSU #PUA in #Hamburg https://t.co/HeYDWlCMyP', 'truncated': False, 'display_text_range': [0, 75], 'entities': {'hashtags': [{'text': 'KeinSchlussstrich', 'indices': [12, 30]}, {'text': 'NSU', 'indices': [54, 58]}, {'text': 'PUA', 'indices': [59, 63]}, {'text': 'Hamburg', 'indices': [67, 75]}], 'symbols': [], 'user_mentions': [], 'urls': [{'url': 'https://t.co/HeYDWlCMyP', 'expanded_url': 'https://twitter.com/H_B_g_R_Info/status/1463417639871655936', 'display_url': 'twitter.com/H_B_g_R_Info/s…', 'indices': [76, 99]}]}, 'source': '<a href=\"http://twitter.com/download/android\" rel=\"nofollow\">Twitter for Android</a>', 'in_reply_to_status_id': None, 'in_reply_to_status_id_str': None, 'in_reply_to_user_id': None, 'in_reply_to_user_id_str': None, 'in_reply_to_screen_name': None, 'user': {'id': 560467206, 'id_str': '560467206', 'name': 'Petra Pau', 'screen_name': 'PetraPauMaHe', 'location': 'Berlin, Marzahn- Hellersdorf', 'description': 'MdB #LINKE #Vizepräsidentin #Bundestag #MaHe, bis 2017 #NSU-PUA, für #Bürgerrechte & #Demokratie, gegen #Rassismus #Antisemitismus #Nazis', 'url': 'http://t.co/0vmzzfMH9u', 'entities': {'url': {'urls': [{'url': 'http://t.co/0vmzzfMH9u', 'expanded_url': 'http://www.petrapau.de', 'display_url': 'petrapau.de', 'indices': [0, 22]}]}, 'description': {'urls': []}}, 'protected': False, 'followers_count': 16210, 'friends_count': 711, 'listed_count': 471, 'created_at': 'Sun Apr 22 15:55:05 +0000 2012', 'favourites_count': 20852, 'utc_offset': None, 'time_zone': None, 'geo_enabled': True, 'verified': True, 'statuses_count': 19112, 'lang': None, 'contributors_enabled': False, 'is_translator': False, 'is_translation_enabled': False, 'profile_background_color': 'C0DEED', 'profile_background_image_url': 'http://abs.twimg.com/images/themes/theme1/bg.png', 'profile_background_image_url_https': 'https://abs.twimg.com/images/themes/theme1/bg.png', 'profile_background_tile': False, 'profile_image_url': 'http://pbs.twimg.com/profile_images/887345028745629696/Fk-YFU1H_normal.jpg', 'profile_image_url_https': 'https://pbs.twimg.com/profile_images/887345028745629696/Fk-YFU1H_normal.jpg', 'profile_banner_url': 'https://pbs.twimg.com/profile_banners/560467206/1500393836', 'profile_link_color': '1DA1F2', 'profile_sidebar_border_color': 'C0DEED', 'profile_sidebar_fill_color': 'DDEEF6', 'profile_text_color': '333333', 'profile_use_background_image': True, 'has_extended_profile': True, 'default_profile': True, 'default_profile_image': False, 'following': False, 'follow_request_sent': False, 'notifications': False, 'translator_type': 'none', 'withheld_in_countries': []}, 'geo': None, 'coordinates': None, 'place': None, 'contributors': None, 'is_quote_status': True, 'quoted_status_id': 1463417639871655936, 'quoted_status_id_str': '1463417639871655936', 'quoted_status_permalink': {'url': 'https://t.co/HeYDWlCMyP', 'expanded': 'https://twitter.com/H_B_g_R_Info/status/1463417639871655936', 'display': 'twitter.com/H_B_g_R_Info/s…'}, 'quoted_status': {'created_at': 'Wed Nov 24 08:02:08 +0000 2021', 'id': 1463417639871655936, 'id_str': '1463417639871655936', 'full_text': 'Spannend: @spdhh diskutiert morgen mit @nsuwatch zum Thema „Hamburg als Tatort des NSU“. Kazim Abaci organisierte zwar im November 2011 das erste Gedenken an die Opfer des NSU in HH, seine Partei weigert sich aber bis heute einen PUA in Hamburg einzurichten. #Keinschlussstrich', 'truncated': False, 'display_text_range': [0, 277], 'entities': {'hashtags': [{'text': 'Keinschlussstrich', 'indices': [259, 277]}], 'symbols': [], 'user_mentions': [{'screen_name': 'spdhh', 'name': 'SPD Hamburg', 'id': 20596523, 'id_str': '20596523', 'indices': [10, 16]}, {'screen_name': 'nsuwatch', 'name': 'NSU Watch', 'id': 418567354, 'id_str': '418567354', 'indices': [39, 48]}], 'urls': []}, 'source': '<a href=\"https://mobile.twitter.com\" rel=\"nofollow\">Twitter Web App</a>', 'in_reply_to_status_id': None, 'in_reply_to_status_id_str': None, 'in_reply_to_user_id': None, 'in_reply_to_user_id_str': None, 'in_reply_to_screen_name': None, 'user': {'id': 1266073393788596225, 'id_str': '1266073393788596225', 'name': 'Hamburger Bündnis gegen Rechts', 'screen_name': 'H_B_g_R_Info', 'location': '', 'description': 'Offizieller Twitter des Hamburger Bündnis gegen Rechts', 'url': 'https://t.co/zzfRmCaPuy', 'entities': {'url': {'urls': [{'url': 'https://t.co/zzfRmCaPuy', 'expanded_url': 'http://keine-stimme-den-nazis.org', 'display_url': 'keine-stimme-den-nazis.org', 'indices': [0, 23]}]}, 'description': {'urls': []}}, 'protected': False, 'followers_count': 1953, 'friends_count': 142, 'listed_count': 12, 'created_at': 'Thu May 28 18:27:07 +0000 2020', 'favourites_count': 334, 'utc_offset': None, 'time_zone': None, 'geo_enabled': False, 'verified': False, 'statuses_count': 883, 'lang': None, 'contributors_enabled': False, 'is_translator': False, 'is_translation_enabled': False, 'profile_background_color': 'F5F8FA', 'profile_background_image_url': None, 'profile_background_image_url_https': None, 'profile_background_tile': False, 'profile_image_url': 'http://pbs.twimg.com/profile_images/1340443511406129152/_zvunwC-_normal.jpg', 'profile_image_url_https': 'https://pbs.twimg.com/profile_images/1340443511406129152/_zvunwC-_normal.jpg', 'profile_banner_url': 'https://pbs.twimg.com/profile_banners/1266073393788596225/1628425042', 'profile_link_color': '1DA1F2', 'profile_sidebar_border_color': 'C0DEED', 'profile_sidebar_fill_color': 'DDEEF6', 'profile_text_color': '333333', 'profile_use_background_image': True, 'has_extended_profile': False, 'default_profile': True, 'default_profile_image': False, 'following': False, 'follow_request_sent': False, 'notifications': False, 'translator_type': 'none', 'withheld_in_countries': []}, 'geo': None, 'coordinates': None, 'place': None, 'contributors': None, 'is_quote_status': False, 'retweet_count': 8, 'favorite_count': 23, 'favorited': False, 'retweeted': False, 'lang': 'de'}, 'retweet_count': 2, 'favorite_count': 3, 'favorited': False, 'retweeted': False, 'possibly_sensitive': False, 'lang': 'de'}, created_at=datetime.datetime(2021, 11, 24, 23, 52, 47, tzinfo=datetime.timezone.utc), id=1463656878169374726, id_str='1463656878169374726', full_text='Doch schon? #KeinSchlussstrich Höchste Zeit für einen #NSU #PUA in #Hamburg https://t.co/HeYDWlCMyP', truncated=False, display_text_range=[0, 75], entities={'hashtags': [{'text': 'KeinSchlussstrich', 'indices': [12, 30]}, {'text': 'NSU', 'indices': [54, 58]}, {'text': 'PUA', 'indices': [59, 63]}, {'text': 'Hamburg', 'indices': [67, 75]}], 'symbols': [], 'user_mentions': [], 'urls': [{'url': 'https://t.co/HeYDWlCMyP', 'expanded_url': 'https://twitter.com/H_B_g_R_Info/status/1463417639871655936', 'display_url': 'twitter.com/H_B_g_R_Info/s…', 'indices': [76, 99]}]}, source='Twitter for Android', source_url='http://twitter.com/download/android', in_reply_to_status_id=None, in_reply_to_status_id_str=None, in_reply_to_user_id=None, in_reply_to_user_id_str=None, in_reply_to_screen_name=None, author=User(_api=<tweepy.api.API object at 0x7f979fc6bf90>, _json={'id': 560467206, 'id_str': '560467206', 'name': 'Petra Pau', 'screen_name': 'PetraPauMaHe', 'location': 'Berlin, Marzahn- Hellersdorf', 'description': 'MdB #LINKE #Vizepräsidentin #Bundestag #MaHe, bis 2017 #NSU-PUA, für #Bürgerrechte & #Demokratie, gegen #Rassismus #Antisemitismus #Nazis', 'url': 'http://t.co/0vmzzfMH9u', 'entities': {'url': {'urls': [{'url': 'http://t.co/0vmzzfMH9u', 'expanded_url': 'http://www.petrapau.de', 'display_url': 'petrapau.de', 'indices': [0, 22]}]}, 'description': {'urls': []}}, 'protected': False, 'followers_count': 16210, 'friends_count': 711, 'listed_count': 471, 'created_at': 'Sun Apr 22 15:55:05 +0000 2012', 'favourites_count': 20852, 'utc_offset': None, 'time_zone': None, 'geo_enabled': True, 'verified': True, 'statuses_count': 19112, 'lang': None, 'contributors_enabled': False, 'is_translator': False, 'is_translation_enabled': False, 'profile_background_color': 'C0DEED', 'profile_background_image_url': 'http://abs.twimg.com/images/themes/theme1/bg.png', 'profile_background_image_url_https': 'https://abs.twimg.com/images/themes/theme1/bg.png', 'profile_background_tile': False, 'profile_image_url': 'http://pbs.twimg.com/profile_images/887345028745629696/Fk-YFU1H_normal.jpg', 'profile_image_url_https': 'https://pbs.twimg.com/profile_images/887345028745629696/Fk-YFU1H_normal.jpg', 'profile_banner_url': 'https://pbs.twimg.com/profile_banners/560467206/1500393836', 'profile_link_color': '1DA1F2', 'profile_sidebar_border_color': 'C0DEED', 'profile_sidebar_fill_color': 'DDEEF6', 'profile_text_color': '333333', 'profile_use_background_image': True, 'has_extended_profile': True, 'default_profile': True, 'default_profile_image': False, 'following': False, 'follow_request_sent': False, 'notifications': False, 'translator_type': 'none', 'withheld_in_countries': []}, id=560467206, id_str='560467206', name='Petra Pau', screen_name='PetraPauMaHe', location='Berlin, Marzahn- Hellersdorf', description='MdB #LINKE #Vizepräsidentin #Bundestag #MaHe, bis 2017 #NSU-PUA, für #Bürgerrechte & #Demokratie, gegen #Rassismus #Antisemitismus #Nazis', url='http://t.co/0vmzzfMH9u', entities={'url': {'urls': [{'url': 'http://t.co/0vmzzfMH9u', 'expanded_url': 'http://www.petrapau.de', 'display_url': 'petrapau.de', 'indices': [0, 22]}]}, 'description': {'urls': []}}, protected=False, followers_count=16210, friends_count=711, listed_count=471, created_at=datetime.datetime(2012, 4, 22, 15, 55, 5, tzinfo=datetime.timezone.utc), favourites_count=20852, utc_offset=None, time_zone=None, geo_enabled=True, verified=True, statuses_count=19112, lang=None, contributors_enabled=False, is_translator=False, is_translation_enabled=False, profile_background_color='C0DEED', profile_background_image_url='http://abs.twimg.com/images/themes/theme1/bg.png', profile_background_image_url_https='https://abs.twimg.com/images/themes/theme1/bg.png', profile_background_tile=False, profile_image_url='http://pbs.twimg.com/profile_images/887345028745629696/Fk-YFU1H_normal.jpg', profile_image_url_https='https://pbs.twimg.com/profile_images/887345028745629696/Fk-YFU1H_normal.jpg', profile_banner_url='https://pbs.twimg.com/profile_banners/560467206/1500393836', profile_link_color='1DA1F2', profile_sidebar_border_color='C0DEED', profile_sidebar_fill_color='DDEEF6', profile_text_color='333333', profile_use_background_image=True, has_extended_profile=True, default_profile=True, default_profile_image=False, following=False, follow_request_sent=False, notifications=False, translator_type='none', withheld_in_countries=[]), user=User(_api=<tweepy.api.API object at 0x7f979fc6bf90>, _json={'id': 560467206, 'id_str': '560467206', 'name': 'Petra Pau', 'screen_name': 'PetraPauMaHe', 'location': 'Berlin, Marzahn- Hellersdorf', 'description': 'MdB #LINKE #Vizepräsidentin #Bundestag #MaHe, bis 2017 #NSU-PUA, für #Bürgerrechte & #Demokratie, gegen #Rassismus #Antisemitismus #Nazis', 'url': 'http://t.co/0vmzzfMH9u', 'entities': {'url': {'urls': [{'url': 'http://t.co/0vmzzfMH9u', 'expanded_url': 'http://www.petrapau.de', 'display_url': 'petrapau.de', 'indices': [0, 22]}]}, 'description': {'urls': []}}, 'protected': False, 'followers_count': 16210, 'friends_count': 711, 'listed_count': 471, 'created_at': 'Sun Apr 22 15:55:05 +0000 2012', 'favourites_count': 20852, 'utc_offset': None, 'time_zone': None, 'geo_enabled': True, 'verified': True, 'statuses_count': 19112, 'lang': None, 'contributors_enabled': False, 'is_translator': False, 'is_translation_enabled': False, 'profile_background_color': 'C0DEED', 'profile_background_image_url': 'http://abs.twimg.com/images/themes/theme1/bg.png', 'profile_background_image_url_https': 'https://abs.twimg.com/images/themes/theme1/bg.png', 'profile_background_tile': False, 'profile_image_url': 'http://pbs.twimg.com/profile_images/887345028745629696/Fk-YFU1H_normal.jpg', 'profile_image_url_https': 'https://pbs.twimg.com/profile_images/887345028745629696/Fk-YFU1H_normal.jpg', 'profile_banner_url': 'https://pbs.twimg.com/profile_banners/560467206/1500393836', 'profile_link_color': '1DA1F2', 'profile_sidebar_border_color': 'C0DEED', 'profile_sidebar_fill_color': 'DDEEF6', 'profile_text_color': '333333', 'profile_use_background_image': True, 'has_extended_profile': True, 'default_profile': True, 'default_profile_image': False, 'following': False, 'follow_request_sent': False, 'notifications': False, 'translator_type': 'none', 'withheld_in_countries': []}, id=560467206, id_str='560467206', name='Petra Pau', screen_name='PetraPauMaHe', location='Berlin, Marzahn- Hellersdorf', description='MdB #LINKE #Vizepräsidentin #Bundestag #MaHe, bis 2017 #NSU-PUA, für #Bürgerrechte & #Demokratie, gegen #Rassismus #Antisemitismus #Nazis', url='http://t.co/0vmzzfMH9u', entities={'url': {'urls': [{'url': 'http://t.co/0vmzzfMH9u', 'expanded_url': 'http://www.petrapau.de', 'display_url': 'petrapau.de', 'indices': [0, 22]}]}, 'description': {'urls': []}}, protected=False, followers_count=16210, friends_count=711, listed_count=471, created_at=datetime.datetime(2012, 4, 22, 15, 55, 5, tzinfo=datetime.timezone.utc), favourites_count=20852, utc_offset=None, time_zone=None, geo_enabled=True, verified=True, statuses_count=19112, lang=None, contributors_enabled=False, is_translator=False, is_translation_enabled=False, profile_background_color='C0DEED', profile_background_image_url='http://abs.twimg.com/images/themes/theme1/bg.png', profile_background_image_url_https='https://abs.twimg.com/images/themes/theme1/bg.png', profile_background_tile=False, profile_image_url='http://pbs.twimg.com/profile_images/887345028745629696/Fk-YFU1H_normal.jpg', profile_image_url_https='https://pbs.twimg.com/profile_images/887345028745629696/Fk-YFU1H_normal.jpg', profile_banner_url='https://pbs.twimg.com/profile_banners/560467206/1500393836', profile_link_color='1DA1F2', profile_sidebar_border_color='C0DEED', profile_sidebar_fill_color='DDEEF6', profile_text_color='333333', profile_use_background_image=True, has_extended_profile=True, default_profile=True, default_profile_image=False, following=False, follow_request_sent=False, notifications=False, translator_type='none', withheld_in_countries=[]), geo=None, coordinates=None, place=None, contributors=None, is_quote_status=True, quoted_status_id=1463417639871655936, quoted_status_id_str='1463417639871655936', quoted_status_permalink={'url': 'https://t.co/HeYDWlCMyP', 'expanded': 'https://twitter.com/H_B_g_R_Info/status/1463417639871655936', 'display': 'twitter.com/H_B_g_R_Info/s…'}, quoted_status=Status(_api=<tweepy.api.API object at 0x7f979fc6bf90>, _json={'created_at': 'Wed Nov 24 08:02:08 +0000 2021', 'id': 1463417639871655936, 'id_str': '1463417639871655936', 'full_text': 'Spannend: @spdhh diskutiert morgen mit @nsuwatch zum Thema „Hamburg als Tatort des NSU“. Kazim Abaci organisierte zwar im November 2011 das erste Gedenken an die Opfer des NSU in HH, seine Partei weigert sich aber bis heute einen PUA in Hamburg einzurichten. #Keinschlussstrich', 'truncated': False, 'display_text_range': [0, 277], 'entities': {'hashtags': [{'text': 'Keinschlussstrich', 'indices': [259, 277]}], 'symbols': [], 'user_mentions': [{'screen_name': 'spdhh', 'name': 'SPD Hamburg', 'id': 20596523, 'id_str': '20596523', 'indices': [10, 16]}, {'screen_name': 'nsuwatch', 'name': 'NSU Watch', 'id': 418567354, 'id_str': '418567354', 'indices': [39, 48]}], 'urls': []}, 'source': '<a href=\"https://mobile.twitter.com\" rel=\"nofollow\">Twitter Web App</a>', 'in_reply_to_status_id': None, 'in_reply_to_status_id_str': None, 'in_reply_to_user_id': None, 'in_reply_to_user_id_str': None, 'in_reply_to_screen_name': None, 'user': {'id': 1266073393788596225, 'id_str': '1266073393788596225', 'name': 'Hamburger Bündnis gegen Rechts', 'screen_name': 'H_B_g_R_Info', 'location': '', 'description': 'Offizieller Twitter des Hamburger Bündnis gegen Rechts', 'url': 'https://t.co/zzfRmCaPuy', 'entities': {'url': {'urls': [{'url': 'https://t.co/zzfRmCaPuy', 'expanded_url': 'http://keine-stimme-den-nazis.org', 'display_url': 'keine-stimme-den-nazis.org', 'indices': [0, 23]}]}, 'description': {'urls': []}}, 'protected': False, 'followers_count': 1953, 'friends_count': 142, 'listed_count': 12, 'created_at': 'Thu May 28 18:27:07 +0000 2020', 'favourites_count': 334, 'utc_offset': None, 'time_zone': None, 'geo_enabled': False, 'verified': False, 'statuses_count': 883, 'lang': None, 'contributors_enabled': False, 'is_translator': False, 'is_translation_enabled': False, 'profile_background_color': 'F5F8FA', 'profile_background_image_url': None, 'profile_background_image_url_https': None, 'profile_background_tile': False, 'profile_image_url': 'http://pbs.twimg.com/profile_images/1340443511406129152/_zvunwC-_normal.jpg', 'profile_image_url_https': 'https://pbs.twimg.com/profile_images/1340443511406129152/_zvunwC-_normal.jpg', 'profile_banner_url': 'https://pbs.twimg.com/profile_banners/1266073393788596225/1628425042', 'profile_link_color': '1DA1F2', 'profile_sidebar_border_color': 'C0DEED', 'profile_sidebar_fill_color': 'DDEEF6', 'profile_text_color': '333333', 'profile_use_background_image': True, 'has_extended_profile': False, 'default_profile': True, 'default_profile_image': False, 'following': False, 'follow_request_sent': False, 'notifications': False, 'translator_type': 'none', 'withheld_in_countries': []}, 'geo': None, 'coordinates': None, 'place': None, 'contributors': None, 'is_quote_status': False, 'retweet_count': 8, 'favorite_count': 23, 'favorited': False, 'retweeted': False, 'lang': 'de'}, created_at=datetime.datetime(2021, 11, 24, 8, 2, 8, tzinfo=datetime.timezone.utc), id=1463417639871655936, id_str='1463417639871655936', full_text='Spannend: @spdhh diskutiert morgen mit @nsuwatch zum Thema „Hamburg als Tatort des NSU“. Kazim Abaci organisierte zwar im November 2011 das erste Gedenken an die Opfer des NSU in HH, seine Partei weigert sich aber bis heute einen PUA in Hamburg einzurichten. #Keinschlussstrich', truncated=False, display_text_range=[0, 277], entities={'hashtags': [{'text': 'Keinschlussstrich', 'indices': [259, 277]}], 'symbols': [], 'user_mentions': [{'screen_name': 'spdhh', 'name': 'SPD Hamburg', 'id': 20596523, 'id_str': '20596523', 'indices': [10, 16]}, {'screen_name': 'nsuwatch', 'name': 'NSU Watch', 'id': 418567354, 'id_str': '418567354', 'indices': [39, 48]}], 'urls': []}, source='Twitter Web App', source_url='https://mobile.twitter.com', in_reply_to_status_id=None, in_reply_to_status_id_str=None, in_reply_to_user_id=None, in_reply_to_user_id_str=None, in_reply_to_screen_name=None, author=User(_api=<tweepy.api.API object at 0x7f979fc6bf90>, _json={'id': 1266073393788596225, 'id_str': '1266073393788596225', 'name': 'Hamburger Bündnis gegen Rechts', 'screen_name': 'H_B_g_R_Info', 'location': '', 'description': 'Offizieller Twitter des Hamburger Bündnis gegen Rechts', 'url': 'https://t.co/zzfRmCaPuy', 'entities': {'url': {'urls': [{'url': 'https://t.co/zzfRmCaPuy', 'expanded_url': 'http://keine-stimme-den-nazis.org', 'display_url': 'keine-stimme-den-nazis.org', 'indices': [0, 23]}]}, 'description': {'urls': []}}, 'protected': False, 'followers_count': 1953, 'friends_count': 142, 'listed_count': 12, 'created_at': 'Thu May 28 18:27:07 +0000 2020', 'favourites_count': 334, 'utc_offset': None, 'time_zone': None, 'geo_enabled': False, 'verified': False, 'statuses_count': 883, 'lang': None, 'contributors_enabled': False, 'is_translator': False, 'is_translation_enabled': False, 'profile_background_color': 'F5F8FA', 'profile_background_image_url': None, 'profile_background_image_url_https': None, 'profile_background_tile': False, 'profile_image_url': 'http://pbs.twimg.com/profile_images/1340443511406129152/_zvunwC-_normal.jpg', 'profile_image_url_https': 'https://pbs.twimg.com/profile_images/1340443511406129152/_zvunwC-_normal.jpg', 'profile_banner_url': 'https://pbs.twimg.com/profile_banners/1266073393788596225/1628425042', 'profile_link_color': '1DA1F2', 'profile_sidebar_border_color': 'C0DEED', 'profile_sidebar_fill_color': 'DDEEF6', 'profile_text_color': '333333', 'profile_use_background_image': True, 'has_extended_profile': False, 'default_profile': True, 'default_profile_image': False, 'following': False, 'follow_request_sent': False, 'notifications': False, 'translator_type': 'none', 'withheld_in_countries': []}, id=1266073393788596225, id_str='1266073393788596225', name='Hamburger Bündnis gegen Rechts', screen_name='H_B_g_R_Info', location='', description='Offizieller Twitter des Hamburger Bündnis gegen Rechts', url='https://t.co/zzfRmCaPuy', entities={'url': {'urls': [{'url': 'https://t.co/zzfRmCaPuy', 'expanded_url': 'http://keine-stimme-den-nazis.org', 'display_url': 'keine-stimme-den-nazis.org', 'indices': [0, 23]}]}, 'description': {'urls': []}}, protected=False, followers_count=1953, friends_count=142, listed_count=12, created_at=datetime.datetime(2020, 5, 28, 18, 27, 7, tzinfo=datetime.timezone.utc), favourites_count=334, utc_offset=None, time_zone=None, geo_enabled=False, verified=False, statuses_count=883, lang=None, contributors_enabled=False, is_translator=False, is_translation_enabled=False, profile_background_color='F5F8FA', profile_background_image_url=None, profile_background_image_url_https=None, profile_background_tile=False, profile_image_url='http://pbs.twimg.com/profile_images/1340443511406129152/_zvunwC-_normal.jpg', profile_image_url_https='https://pbs.twimg.com/profile_images/1340443511406129152/_zvunwC-_normal.jpg', profile_banner_url='https://pbs.twimg.com/profile_banners/1266073393788596225/1628425042', profile_link_color='1DA1F2', profile_sidebar_border_color='C0DEED', profile_sidebar_fill_color='DDEEF6', profile_text_color='333333', profile_use_background_image=True, has_extended_profile=False, default_profile=True, default_profile_image=False, following=False, follow_request_sent=False, notifications=False, translator_type='none', withheld_in_countries=[]), user=User(_api=<tweepy.api.API object at 0x7f979fc6bf90>, _json={'id': 1266073393788596225, 'id_str': '1266073393788596225', 'name': 'Hamburger Bündnis gegen Rechts', 'screen_name': 'H_B_g_R_Info', 'location': '', 'description': 'Offizieller Twitter des Hamburger Bündnis gegen Rechts', 'url': 'https://t.co/zzfRmCaPuy', 'entities': {'url': {'urls': [{'url': 'https://t.co/zzfRmCaPuy', 'expanded_url': 'http://keine-stimme-den-nazis.org', 'display_url': 'keine-stimme-den-nazis.org', 'indices': [0, 23]}]}, 'description': {'urls': []}}, 'protected': False, 'followers_count': 1953, 'friends_count': 142, 'listed_count': 12, 'created_at': 'Thu May 28 18:27:07 +0000 2020', 'favourites_count': 334, 'utc_offset': None, 'time_zone': None, 'geo_enabled': False, 'verified': False, 'statuses_count': 883, 'lang': None, 'contributors_enabled': False, 'is_translator': False, 'is_translation_enabled': False, 'profile_background_color': 'F5F8FA', 'profile_background_image_url': None, 'profile_background_image_url_https': None, 'profile_background_tile': False, 'profile_image_url': 'http://pbs.twimg.com/profile_images/1340443511406129152/_zvunwC-_normal.jpg', 'profile_image_url_https': 'https://pbs.twimg.com/profile_images/1340443511406129152/_zvunwC-_normal.jpg', 'profile_banner_url': 'https://pbs.twimg.com/profile_banners/1266073393788596225/1628425042', 'profile_link_color': '1DA1F2', 'profile_sidebar_border_color': 'C0DEED', 'profile_sidebar_fill_color': 'DDEEF6', 'profile_text_color': '333333', 'profile_use_background_image': True, 'has_extended_profile': False, 'default_profile': True, 'default_profile_image': False, 'following': False, 'follow_request_sent': False, 'notifications': False, 'translator_type': 'none', 'withheld_in_countries': []}, id=1266073393788596225, id_str='1266073393788596225', name='Hamburger Bündnis gegen Rechts', screen_name='H_B_g_R_Info', location='', description='Offizieller Twitter des Hamburger Bündnis gegen Rechts', url='https://t.co/zzfRmCaPuy', entities={'url': {'urls': [{'url': 'https://t.co/zzfRmCaPuy', 'expanded_url': 'http://keine-stimme-den-nazis.org', 'display_url': 'keine-stimme-den-nazis.org', 'indices': [0, 23]}]}, 'description': {'urls': []}}, protected=False, followers_count=1953, friends_count=142, listed_count=12, created_at=datetime.datetime(2020, 5, 28, 18, 27, 7, tzinfo=datetime.timezone.utc), favourites_count=334, utc_offset=None, time_zone=None, geo_enabled=False, verified=False, statuses_count=883, lang=None, contributors_enabled=False, is_translator=False, is_translation_enabled=False, profile_background_color='F5F8FA', profile_background_image_url=None, profile_background_image_url_https=None, profile_background_tile=False, profile_image_url='http://pbs.twimg.com/profile_images/1340443511406129152/_zvunwC-_normal.jpg', profile_image_url_https='https://pbs.twimg.com/profile_images/1340443511406129152/_zvunwC-_normal.jpg', profile_banner_url='https://pbs.twimg.com/profile_banners/1266073393788596225/1628425042', profile_link_color='1DA1F2', profile_sidebar_border_color='C0DEED', profile_sidebar_fill_color='DDEEF6', profile_text_color='333333', profile_use_background_image=True, has_extended_profile=False, default_profile=True, default_profile_image=False, following=False, follow_request_sent=False, notifications=False, translator_type='none', withheld_in_countries=[]), geo=None, coordinates=None, place=None, contributors=None, is_quote_status=False, retweet_count=8, favorite_count=23, favorited=False, retweeted=False, lang='de'), retweet_count=2, favorite_count=3, favorited=False, retweeted=False, possibly_sensitive=False, lang='de')]"
      ]
     },
     "execution_count": 125,
     "metadata": {},
     "output_type": "execute_result"
    }
   ],
   "source": [
    "tweets_sample_mp = api.user_timeline(\n",
    "    screen_name = twitter_string, \n",
    "    # 100 is the maximum allowed count\n",
    "    count = 10,\n",
    "    include_rts = False,\n",
    "    # Necessary to keep full_text \n",
    "    # otherwise only the first 140 words are extracted\n",
    "    tweet_mode = 'extended'\n",
    ")\n",
    "\n",
    "tweets_sample_mp"
   ]
  },
  {
   "cell_type": "code",
   "execution_count": 126,
   "metadata": {},
   "outputs": [],
   "source": [
    "# tweets_sample_mp.full_text.encode(\"utf-8\")\n",
    "\n",
    "json_data = [r._json for r in tweets_sample_mp]\n",
    "\n",
    "tweets_df = pd.json_normalize(json_data)"
   ]
  },
  {
   "cell_type": "code",
   "execution_count": null,
   "metadata": {},
   "outputs": [],
   "source": [
    "print(tweets_df)"
   ]
  }
 ],
 "metadata": {
  "kernelspec": {
   "display_name": "Python 3",
   "language": "python",
   "name": "python3"
  },
  "language_info": {
   "codemirror_mode": {
    "name": "ipython",
    "version": 3
   },
   "file_extension": ".py",
   "mimetype": "text/x-python",
   "name": "python",
   "nbconvert_exporter": "python",
   "pygments_lexer": "ipython3",
   "version": "3.7.7"
  }
 },
 "nbformat": 4,
 "nbformat_minor": 4
}
