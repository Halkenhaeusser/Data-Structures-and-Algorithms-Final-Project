{
 "cells": [
  {
   "cell_type": "markdown",
   "metadata": {},
   "source": [
    "# Packages"
   ]
  },
  {
   "cell_type": "code",
   "execution_count": 109,
   "metadata": {},
   "outputs": [
    {
     "name": "stdout",
     "output_type": "stream",
     "text": [
      "Tweepy version: 4.4.0\n",
      "Pandas version: 1.3.4\n"
     ]
    }
   ],
   "source": [
    "# packages\n",
    "import tweepy\n",
    "import pandas as pd\n",
    "import os\n",
    "\n",
    "print(\"Tweepy version: \" + tweepy.__version__)\n",
    "print(\"Pandas version: \" + pd.__version__)"
   ]
  },
  {
   "cell_type": "code",
   "execution_count": 110,
   "metadata": {},
   "outputs": [
    {
     "name": "stdout",
     "output_type": "stream",
     "text": [
      "config.py exists\n",
      "API keys and tokens are imported\n"
     ]
    }
   ],
   "source": [
    "# import tokens from config.py file\n",
    "if os.path.isfile(\"config.py\"):\n",
    "    print(\"config.py exists\\nAPI keys and tokens are imported\")\n",
    "    from config import consumer_key, consumer_secret, access_token, access_token_secret\n",
    "else:\n",
    "    print(\"config.py does not exist\\nPlease add config.py to proceed\")"
   ]
  },
  {
   "cell_type": "markdown",
   "metadata": {},
   "source": [
    "# Setting up API"
   ]
  },
  {
   "cell_type": "code",
   "execution_count": 111,
   "metadata": {},
   "outputs": [],
   "source": [
    "# setup consumer API key\n",
    "auth = tweepy.OAuthHandler(\n",
    "    consumer_key,\n",
    "    consumer_secret\n",
    ")\n",
    "\n",
    "# setup access token\n",
    "auth.set_access_token(\n",
    "    access_token,\n",
    "    access_token_secret\n",
    ")\n",
    "\n",
    "# create API variable\n",
    "api = tweepy.API(\n",
    "    auth, \n",
    "    wait_on_rate_limit = True\n",
    ")"
   ]
  },
  {
   "cell_type": "code",
   "execution_count": 112,
   "metadata": {},
   "outputs": [
    {
     "name": "stdout",
     "output_type": "stream",
     "text": [
      "Authentication OK\n"
     ]
    }
   ],
   "source": [
    "# check if API credentials work\n",
    "try:\n",
    "    api.verify_credentials()\n",
    "    print(\"Authentication OK\")\n",
    "except:\n",
    "    print(\"Error during authentication\")"
   ]
  },
  {
   "cell_type": "markdown",
   "metadata": {},
   "source": [
    "# Testing Twitter API"
   ]
  },
  {
   "cell_type": "code",
   "execution_count": 113,
   "metadata": {},
   "outputs": [
    {
     "name": "stdout",
     "output_type": "stream",
     "text": [
      "0    @p_c_bauer @MichaelImre Nice project! Seems to be a very rare coincidence, I worked basically on the same project last year while using the same name 😄\\nhttps://t.co/QQtOQ...\n",
      "Name: full_text, dtype: object\n"
     ]
    }
   ],
   "source": [
    "# test if user_timeline method works with own twitter account\n",
    "tweets_lw = api.user_timeline(\n",
    "    screen_name = \"lukas_warode\",\n",
    "    count = 1,\n",
    "    include_rts = False,\n",
    "    tweet_mode = 'extended'\n",
    ")\n",
    "\n",
    "# print type of user_timeline method object\n",
    "type(tweets_lw)\n",
    "\n",
    "# function to convert tweepy object to a pandas dataframe\n",
    "def timeline_to_df(tweepy_timeline):\n",
    "    json_data = [r._json for r in tweepy_timeline]\n",
    "    df = pd.json_normalize(json_data)\n",
    "    return df\n",
    "\n",
    "# apply function \n",
    "tweets_lw_df = timeline_to_df(tweets_lw)\n",
    "\n",
    "# print full text column of tweet dataframe\n",
    "pd.options.display.max_colwidth = int(tweets_lw_df[\"full_text\"].str.len())\n",
    "print(tweets_lw_df[\"full_text\"])"
   ]
  },
  {
   "cell_type": "markdown",
   "metadata": {},
   "source": [
    "# Use csv file from WZB project to extract list of German MPs' Twitter accounts\n",
    "## (Project author: Markus Konrad)"
   ]
  },
  {
   "cell_type": "code",
   "execution_count": 114,
   "metadata": {},
   "outputs": [],
   "source": [
    "# read csv as dataframe from GitHub repository\n",
    "wzb_df = pd.read_csv(\"https://raw.githubusercontent.com/WZBSocialScienceCenter/mdb-twitter-network/master/data/deputies_twitter_20190702.csv\")\n",
    "\n",
    "# create subset with the 2 relevant columns and drop NAs\n",
    "twitter_df = wzb_df[[\"twitter_name\", \"party\"]].dropna()"
   ]
  },
  {
   "cell_type": "markdown",
   "metadata": {},
   "source": [
    "# Sampling approaches\n",
    "## a) Get random MP Twitter handles"
   ]
  },
  {
   "cell_type": "code",
   "execution_count": 115,
   "metadata": {},
   "outputs": [
    {
     "name": "stdout",
     "output_type": "stream",
     "text": [
      "christianhirte\n",
      "    mwbirkwald\n",
      " hildemattheis\n",
      "    stbrandner\n",
      "   monikalazar\n"
     ]
    }
   ],
   "source": [
    "# Function to extract random MPs' Twitter handeles\n",
    "def random_sample_handle(df, n):\n",
    "    sample = df[[\"twitter_name\"]].sample(n = n)\n",
    "    name_string = sample.to_string(index = False, header = False)\n",
    "    return name_string\n",
    "\n",
    "# apply function\n",
    "print(\n",
    "    random_sample_handle(\n",
    "        df = twitter_df,\n",
    "        n = 5\n",
    "    )\n",
    ")"
   ]
  },
  {
   "cell_type": "markdown",
   "metadata": {},
   "source": [
    "## b) Extract Twitter handles by popularity"
   ]
  },
  {
   "cell_type": "code",
   "execution_count": 116,
   "metadata": {},
   "outputs": [
    {
     "name": "stdout",
     "output_type": "stream",
     "text": [
      "['kirstenkappert', 'konstantinnotz', 'markuskurthmdb', 'babetteschefin', 'sven_kindler', 'agnieszka_mdb', 'goeringeckardt', 'markustressel', 'beatewaro', 'julia_verlinden', 'jtrittin', 'k_sa', 'ulle_schauws', 'schickgerhard', 'manuelsarrazin', 'tabearoessner', 'crueffer', 'lisapaus', 'fostendorff', 'cem_oezdemir', 'nouripour', 'gruenebeate', 'irenemihalic', 'tobiaslindner', 'steffilemke', 'monikalazar', 'renatekuenast', 'chriskuehn_mdb', 'stephankuehn', 'oliver_krischer', 'mariaklschmeink', 'uwekekeritz', 'djanecek', 'brihasselmann', 'hajdukbundestag', 'kaigehring', 'matthiasgastel', 'katjadoerner', 'katdro', 'ebner_sha', 'ekindeligoez', 'fbrantner', 'kerstinandreae', 'abaerbock', 'w_sk', 'lieblingxhain', 'stefangelbhaar', 'danywagner_da', 'badulrichmartha', 'gruenclaudia', 'derdanyal', 'margaretebause', 'filizgreen', 'owvonholtz', 'svenlehmann', 'annachristmann']\n"
     ]
    }
   ],
   "source": [
    "# follower count function\n",
    "def follower_count_fun(twitter_handle):\n",
    "    try: \n",
    "        user = api.get_user(screen_name = twitter_handle)\n",
    "        count = user.followers_count\n",
    "        return count\n",
    "    except tweepy.TweepyException:\n",
    "        pass\n",
    "\n",
    "# for demonstration and simplification purposes we create a subset with Green MPs\n",
    "twitter_df_greens = twitter_df[twitter_df[\"party\"] == \"DIE GRÜNEN\"]\n",
    "\n",
    "# store Twitter handles as list from data frame (column) with a function\n",
    "def col_to_tidy_list(df, col):\n",
    "    col_string = df[[col]].to_string(index = False, header = False)\n",
    "    tidy_string = col_string.replace(\" \", \"\")\n",
    "    tidy_list = tidy_string.split(\"\\n\")\n",
    "    return tidy_list\n",
    "\n",
    "# test and print results\n",
    "twitter_handles_list = col_to_tidy_list(\n",
    "    twitter_df_greens,\n",
    "    \"twitter_name\"\n",
    ")\n",
    "\n",
    "print(twitter_handles_list)"
   ]
  },
  {
   "cell_type": "code",
   "execution_count": 117,
   "metadata": {},
   "outputs": [],
   "source": [
    "# apply function in a for loop and store follower count in list\n",
    "follower_count_list = []\n",
    "\n",
    "for twitter_name in twitter_handles_list:\n",
    "    follower_count_list.append(\n",
    "        follower_count_fun(twitter_name)\n",
    "    )"
   ]
  },
  {
   "cell_type": "code",
   "execution_count": 118,
   "metadata": {},
   "outputs": [
    {
     "name": "stdout",
     "output_type": "stream",
     "text": [
      "[6167, 84887, 3963, None, 19407, 13571, 200394, 2009, None, 9568, 115090, 7408, 7677, 11898, 6524, 9205, 3428, 10948, None, 278473, 27549, 5743, 8851, 8865, 17131, 6333, 76462, 4417, 7486, 19507, 7635, 3352, 13609, 35223, 2375, 11896, 7409, 17848, 8364, 5335, 9343, 12710, 8861, 408889, 7506, 12857, 7740, 1705, 5584, 3047, 16974, 7331, 5539, 1740, 21824, 5047]\n"
     ]
    }
   ],
   "source": [
    "# print results \n",
    "print(follower_count_list)"
   ]
  },
  {
   "cell_type": "code",
   "execution_count": 119,
   "metadata": {},
   "outputs": [
    {
     "name": "stdout",
     "output_type": "stream",
     "text": [
      "        twitter_name       party  follower_count\n",
      "34    kirstenkappert  DIE GRÜNEN          6167.0\n",
      "47    konstantinnotz  DIE GRÜNEN         84887.0\n",
      "67    markuskurthmdb  DIE GRÜNEN          3963.0\n",
      "68    babetteschefin  DIE GRÜNEN             NaN\n",
      "71      sven_kindler  DIE GRÜNEN         19407.0\n",
      "84     agnieszka_mdb  DIE GRÜNEN         13571.0\n",
      "92    goeringeckardt  DIE GRÜNEN        200394.0\n",
      "98     markustressel  DIE GRÜNEN          2009.0\n",
      "122        beatewaro  DIE GRÜNEN             NaN\n",
      "129  julia_verlinden  DIE GRÜNEN          9568.0\n",
      "135         jtrittin  DIE GRÜNEN        115090.0\n",
      "166             k_sa  DIE GRÜNEN          7408.0\n",
      "176     ulle_schauws  DIE GRÜNEN          7677.0\n",
      "179    schickgerhard  DIE GRÜNEN         11898.0\n",
      "185   manuelsarrazin  DIE GRÜNEN          6524.0\n",
      "189    tabearoessner  DIE GRÜNEN          9205.0\n",
      "194         crueffer  DIE GRÜNEN          3428.0\n",
      "221         lisapaus  DIE GRÜNEN         10948.0\n",
      "226      fostendorff  DIE GRÜNEN             NaN\n",
      "228     cem_oezdemir  DIE GRÜNEN        278473.0\n",
      "229        nouripour  DIE GRÜNEN         27549.0\n",
      "242      gruenebeate  DIE GRÜNEN          5743.0\n",
      "251     irenemihalic  DIE GRÜNEN          8851.0\n",
      "270    tobiaslindner  DIE GRÜNEN          8865.0\n",
      "276      steffilemke  DIE GRÜNEN         17131.0\n",
      "279      monikalazar  DIE GRÜNEN          6333.0\n",
      "288    renatekuenast  DIE GRÜNEN         76462.0\n",
      "290   chriskuehn_mdb  DIE GRÜNEN          4417.0\n",
      "291     stephankuehn  DIE GRÜNEN          7486.0\n",
      "296  oliver_krischer  DIE GRÜNEN         19507.0\n",
      "304  mariaklschmeink  DIE GRÜNEN          7635.0\n",
      "317      uwekekeritz  DIE GRÜNEN          3352.0\n",
      "326         djanecek  DIE GRÜNEN         13609.0\n",
      "352    brihasselmann  DIE GRÜNEN         35223.0\n",
      "357  hajdukbundestag  DIE GRÜNEN          2375.0\n",
      "375       kaigehring  DIE GRÜNEN         11896.0\n",
      "380   matthiasgastel  DIE GRÜNEN          7409.0\n",
      "397     katjadoerner  DIE GRÜNEN         17848.0\n",
      "399           katdro  DIE GRÜNEN          8364.0\n",
      "401        ebner_sha  DIE GRÜNEN          5335.0\n",
      "402     ekindeligoez  DIE GRÜNEN          9343.0\n",
      "416        fbrantner  DIE GRÜNEN         12710.0\n",
      "439   kerstinandreae  DIE GRÜNEN          8861.0\n",
      "443        abaerbock  DIE GRÜNEN        408889.0\n",
      "446             w_sk  DIE GRÜNEN          7506.0\n",
      "466    lieblingxhain  DIE GRÜNEN         12857.0\n",
      "468   stefangelbhaar  DIE GRÜNEN          7740.0\n",
      "491    danywagner_da  DIE GRÜNEN          1705.0\n",
      "499  badulrichmartha  DIE GRÜNEN          5584.0\n",
      "506     gruenclaudia  DIE GRÜNEN          3047.0\n",
      "507        derdanyal  DIE GRÜNEN         16974.0\n",
      "540   margaretebause  DIE GRÜNEN          7331.0\n",
      "553       filizgreen  DIE GRÜNEN          5539.0\n",
      "554       owvonholtz  DIE GRÜNEN          1740.0\n",
      "647      svenlehmann  DIE GRÜNEN         21824.0\n",
      "649   annachristmann  DIE GRÜNEN          5047.0\n"
     ]
    },
    {
     "name": "stderr",
     "output_type": "stream",
     "text": [
      "/var/folders/0z/2zjv_gf504q12hx7wv13j4y80000gn/T/ipykernel_41871/3734687620.py:2: SettingWithCopyWarning: \n",
      "A value is trying to be set on a copy of a slice from a DataFrame.\n",
      "Try using .loc[row_indexer,col_indexer] = value instead\n",
      "\n",
      "See the caveats in the documentation: https://pandas.pydata.org/pandas-docs/stable/user_guide/indexing.html#returning-a-view-versus-a-copy\n",
      "  twitter_df_greens[\"follower_count\"] = follower_count_list\n"
     ]
    }
   ],
   "source": [
    "# add follower count list to data fraeme as a numeric column\n",
    "twitter_df_greens[\"follower_count\"] = follower_count_list\n",
    "\n",
    "# print transformed data frame\n",
    "print(twitter_df_greens)"
   ]
  },
  {
   "cell_type": "code",
   "execution_count": 129,
   "metadata": {},
   "outputs": [
    {
     "ename": "TypeError",
     "evalue": "'(34     False\n47     False\n67     False\n68     False\n71     False\n84     False\n92     False\n98     False\n122    False\n129    False\n135    False\n166    False\n176    False\n179    False\n185    False\n189    False\n194    False\n221    False\n226    False\n228    False\n229    False\n242    False\n251    False\n270    False\n276    False\n279    False\n288    False\n290    False\n291    False\n296    False\n304    False\n317    False\n326    False\n352    False\n357    False\n375    False\n380    False\n397    False\n399    False\n401    False\n402    False\n416    False\n439    False\n443     True\n446    False\n466    False\n468    False\n491    False\n499    False\n506    False\n507    False\n540    False\n553    False\n554    False\n647    False\n649    False\nName: follower_count, dtype: bool, 'twitter_name')' is an invalid key",
     "output_type": "error",
     "traceback": [
      "\u001b[0;31m---------------------------------------------------------------------------\u001b[0m",
      "\u001b[0;31mTypeError\u001b[0m                                 Traceback (most recent call last)",
      "\u001b[0;32m/var/folders/0z/2zjv_gf504q12hx7wv13j4y80000gn/T/ipykernel_41871/2920122755.py\u001b[0m in \u001b[0;36m<module>\u001b[0;34m\u001b[0m\n\u001b[1;32m      3\u001b[0m \u001b[0mtwitter_df_greens\u001b[0m\u001b[0;34m[\u001b[0m\u001b[0mtwitter_df_greens\u001b[0m\u001b[0;34m[\u001b[0m\u001b[0;34m\"follower_count\"\u001b[0m\u001b[0;34m]\u001b[0m \u001b[0;34m==\u001b[0m \u001b[0mmax_followers\u001b[0m\u001b[0;34m]\u001b[0m\u001b[0;34m\u001b[0m\u001b[0;34m\u001b[0m\u001b[0m\n\u001b[1;32m      4\u001b[0m \u001b[0;34m\u001b[0m\u001b[0m\n\u001b[0;32m----> 5\u001b[0;31m \u001b[0mmost_followers_mp\u001b[0m \u001b[0;34m=\u001b[0m \u001b[0mtwitter_df_greens\u001b[0m\u001b[0;34m[\u001b[0m\u001b[0mtwitter_df_greens\u001b[0m\u001b[0;34m[\u001b[0m\u001b[0;34m\"follower_count\"\u001b[0m\u001b[0;34m]\u001b[0m \u001b[0;34m==\u001b[0m \u001b[0mmax_followers\u001b[0m\u001b[0;34m,\u001b[0m \u001b[0;34m\"twitter_name\"\u001b[0m\u001b[0;34m]\u001b[0m\u001b[0;34m\u001b[0m\u001b[0;34m\u001b[0m\u001b[0m\n\u001b[0m",
      "\u001b[0;32m~/Library/Python/3.8/lib/python/site-packages/pandas/core/frame.py\u001b[0m in \u001b[0;36m__getitem__\u001b[0;34m(self, key)\u001b[0m\n\u001b[1;32m   3456\u001b[0m             \u001b[0;32mif\u001b[0m \u001b[0mself\u001b[0m\u001b[0;34m.\u001b[0m\u001b[0mcolumns\u001b[0m\u001b[0;34m.\u001b[0m\u001b[0mnlevels\u001b[0m \u001b[0;34m>\u001b[0m \u001b[0;36m1\u001b[0m\u001b[0;34m:\u001b[0m\u001b[0;34m\u001b[0m\u001b[0;34m\u001b[0m\u001b[0m\n\u001b[1;32m   3457\u001b[0m                 \u001b[0;32mreturn\u001b[0m \u001b[0mself\u001b[0m\u001b[0;34m.\u001b[0m\u001b[0m_getitem_multilevel\u001b[0m\u001b[0;34m(\u001b[0m\u001b[0mkey\u001b[0m\u001b[0;34m)\u001b[0m\u001b[0;34m\u001b[0m\u001b[0;34m\u001b[0m\u001b[0m\n\u001b[0;32m-> 3458\u001b[0;31m             \u001b[0mindexer\u001b[0m \u001b[0;34m=\u001b[0m \u001b[0mself\u001b[0m\u001b[0;34m.\u001b[0m\u001b[0mcolumns\u001b[0m\u001b[0;34m.\u001b[0m\u001b[0mget_loc\u001b[0m\u001b[0;34m(\u001b[0m\u001b[0mkey\u001b[0m\u001b[0;34m)\u001b[0m\u001b[0;34m\u001b[0m\u001b[0;34m\u001b[0m\u001b[0m\n\u001b[0m\u001b[1;32m   3459\u001b[0m             \u001b[0;32mif\u001b[0m \u001b[0mis_integer\u001b[0m\u001b[0;34m(\u001b[0m\u001b[0mindexer\u001b[0m\u001b[0;34m)\u001b[0m\u001b[0;34m:\u001b[0m\u001b[0;34m\u001b[0m\u001b[0;34m\u001b[0m\u001b[0m\n\u001b[1;32m   3460\u001b[0m                 \u001b[0mindexer\u001b[0m \u001b[0;34m=\u001b[0m \u001b[0;34m[\u001b[0m\u001b[0mindexer\u001b[0m\u001b[0;34m]\u001b[0m\u001b[0;34m\u001b[0m\u001b[0;34m\u001b[0m\u001b[0m\n",
      "\u001b[0;32m~/Library/Python/3.8/lib/python/site-packages/pandas/core/indexes/base.py\u001b[0m in \u001b[0;36mget_loc\u001b[0;34m(self, key, method, tolerance)\u001b[0m\n\u001b[1;32m   3359\u001b[0m             \u001b[0mcasted_key\u001b[0m \u001b[0;34m=\u001b[0m \u001b[0mself\u001b[0m\u001b[0;34m.\u001b[0m\u001b[0m_maybe_cast_indexer\u001b[0m\u001b[0;34m(\u001b[0m\u001b[0mkey\u001b[0m\u001b[0;34m)\u001b[0m\u001b[0;34m\u001b[0m\u001b[0;34m\u001b[0m\u001b[0m\n\u001b[1;32m   3360\u001b[0m             \u001b[0;32mtry\u001b[0m\u001b[0;34m:\u001b[0m\u001b[0;34m\u001b[0m\u001b[0;34m\u001b[0m\u001b[0m\n\u001b[0;32m-> 3361\u001b[0;31m                 \u001b[0;32mreturn\u001b[0m \u001b[0mself\u001b[0m\u001b[0;34m.\u001b[0m\u001b[0m_engine\u001b[0m\u001b[0;34m.\u001b[0m\u001b[0mget_loc\u001b[0m\u001b[0;34m(\u001b[0m\u001b[0mcasted_key\u001b[0m\u001b[0;34m)\u001b[0m\u001b[0;34m\u001b[0m\u001b[0;34m\u001b[0m\u001b[0m\n\u001b[0m\u001b[1;32m   3362\u001b[0m             \u001b[0;32mexcept\u001b[0m \u001b[0mKeyError\u001b[0m \u001b[0;32mas\u001b[0m \u001b[0merr\u001b[0m\u001b[0;34m:\u001b[0m\u001b[0;34m\u001b[0m\u001b[0;34m\u001b[0m\u001b[0m\n\u001b[1;32m   3363\u001b[0m                 \u001b[0;32mraise\u001b[0m \u001b[0mKeyError\u001b[0m\u001b[0;34m(\u001b[0m\u001b[0mkey\u001b[0m\u001b[0;34m)\u001b[0m \u001b[0;32mfrom\u001b[0m \u001b[0merr\u001b[0m\u001b[0;34m\u001b[0m\u001b[0;34m\u001b[0m\u001b[0m\n",
      "\u001b[0;32m~/Library/Python/3.8/lib/python/site-packages/pandas/_libs/index.pyx\u001b[0m in \u001b[0;36mpandas._libs.index.IndexEngine.get_loc\u001b[0;34m()\u001b[0m\n",
      "\u001b[0;32m~/Library/Python/3.8/lib/python/site-packages/pandas/_libs/index.pyx\u001b[0m in \u001b[0;36mpandas._libs.index.IndexEngine.get_loc\u001b[0;34m()\u001b[0m\n",
      "\u001b[0;31mTypeError\u001b[0m: '(34     False\n47     False\n67     False\n68     False\n71     False\n84     False\n92     False\n98     False\n122    False\n129    False\n135    False\n166    False\n176    False\n179    False\n185    False\n189    False\n194    False\n221    False\n226    False\n228    False\n229    False\n242    False\n251    False\n270    False\n276    False\n279    False\n288    False\n290    False\n291    False\n296    False\n304    False\n317    False\n326    False\n352    False\n357    False\n375    False\n380    False\n397    False\n399    False\n401    False\n402    False\n416    False\n439    False\n443     True\n446    False\n466    False\n468    False\n491    False\n499    False\n506    False\n507    False\n540    False\n553    False\n554    False\n647    False\n649    False\nName: follower_count, dtype: bool, 'twitter_name')' is an invalid key"
     ]
    }
   ],
   "source": [
    "# filter observation with highest follower count\n",
    "max_followers = twitter_df_greens[\"follower_count\"].max()\n",
    "twitter_df_greens[twitter_df_greens[\"follower_count\"] == max_followers]\n",
    "\n",
    "most_followers_mp = twitter_df_greens[twitter_df_greens[\"follower_count\"] == max_followers]"
   ]
  },
  {
   "cell_type": "code",
   "execution_count": 120,
   "metadata": {},
   "outputs": [],
   "source": [
    "\n",
    "# follower_count_dict = dict.fromkeys(list(twitter_handles_greens))\n",
    "\n",
    "# print(follower_count_dict)\n",
    "\n",
    "# for twitter_name in twitter_handles_greens:\n",
    "#     follower_count_dict[twitter_name].append(follower_count_fun(twitter_name))\n"
   ]
  },
  {
   "cell_type": "code",
   "execution_count": 121,
   "metadata": {},
   "outputs": [],
   "source": [
    "# baerbock_tweets = api.user_timeline(\n",
    "#     screen_name = \"\",\n",
    "#     count = Inf,\n",
    "#     include_rts = False,\n",
    "#     tweet_mode = 'extended'\n",
    "# )\n",
    "\n",
    "# tweepy.Cursor(\n",
    "#     include\n",
    "# )"
   ]
  },
  {
   "cell_type": "code",
   "execution_count": 122,
   "metadata": {},
   "outputs": [],
   "source": [
    "# # Function to extract follower count with twitter handle\n",
    "# def follower_count_fun(twitter_handle):\n",
    "#     try: \n",
    "#         user = api.get_user(screen_name = twitter_handle)\n",
    "#         count = user.followers_count\n",
    "#         return count\n",
    "#     except tweepy.TweepyException:\n",
    "#         pass\n",
    "\n",
    "# twitter_df_sample = twitter_df.sample(5)\n",
    "\n",
    "# test_user = twitter_df.iloc[1:4, 0].to_string(index = False, header = False)\n",
    "\n",
    "# for i in test_user:\n",
    "#     print(i)\n",
    "# # twitter_df_sample.assign(\n",
    "# #     follower_count = api.get_user(screen_name = twitter_df[[\"twitter_name\"]]).followers_count\n",
    "# # )\n",
    "\n",
    "# # follower_count_fun(\n",
    "# #     twitter_df.iloc[5, 0].to_string(index = False, header = False)\n",
    "# # )\n",
    "    \n",
    "# # twitter_df_sample = twitter_df.sample(10)\n",
    "\n",
    "# # twitter_df_sample.assign(\n",
    "# #     follower_count = follower_count_fun(twitter_df[[\"twitter_name\"]])\n",
    "# # )\n",
    "\n",
    "\n",
    "# # print(\n",
    "# #     tweepy.api.get_user(id = \"karl_lauterbach\")\n",
    "# # )\n",
    "\n",
    "# # twitter_handles\n",
    "\n",
    "# # print(twitter_handles[1])\n",
    "\n",
    "# # for mp in twitter_handles:\n",
    "#     # print(mp)\n",
    "\n",
    "# # for mp in twitter_handles:\n",
    "# #     # user = api.get_user(id = mp)\n",
    "# #     print(\n",
    "# #         api.get_user(id = mp).followers_count\n",
    "# #     )\n",
    "\n",
    "# # join(twitter_handles[1])\n",
    "    \n",
    "\n",
    "\n",
    "# # user = api.get_user(id = twitter_handles[1])\n",
    "\n",
    "# # user.followers_count"
   ]
  },
  {
   "cell_type": "code",
   "execution_count": null,
   "metadata": {},
   "outputs": [],
   "source": []
  },
  {
   "cell_type": "code",
   "execution_count": null,
   "metadata": {},
   "outputs": [],
   "source": []
  },
  {
   "cell_type": "code",
   "execution_count": null,
   "metadata": {},
   "outputs": [],
   "source": [
    "\n",
    "                          "
   ]
  },
  {
   "cell_type": "code",
   "execution_count": null,
   "metadata": {},
   "outputs": [],
   "source": []
  }
 ],
 "metadata": {
  "interpreter": {
   "hash": "31f2aee4e71d21fbe5cf8b01ff0e069b9275f58929596ceb00d14d90e3e16cd6"
  },
  "kernelspec": {
   "display_name": "Python 3.8.9 64-bit",
   "language": "python",
   "name": "python3"
  },
  "language_info": {
   "codemirror_mode": {
    "name": "ipython",
    "version": 3
   },
   "file_extension": ".py",
   "mimetype": "text/x-python",
   "name": "python",
   "nbconvert_exporter": "python",
   "pygments_lexer": "ipython3",
   "version": "3.8.9"
  },
  "orig_nbformat": 4
 },
 "nbformat": 4,
 "nbformat_minor": 2
}
