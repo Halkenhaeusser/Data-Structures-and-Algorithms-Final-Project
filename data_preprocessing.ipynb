{
 "cells": [
  {
   "cell_type": "markdown",
   "metadata": {},
   "source": [
    "# Packages"
   ]
  },
  {
   "cell_type": "code",
   "execution_count": 1,
   "metadata": {},
   "outputs": [
    {
     "name": "stdout",
     "output_type": "stream",
     "text": [
      "Tweepy version: 4.4.0\n",
      "Pandas version: 1.3.4\n"
     ]
    }
   ],
   "source": [
    "# packages\n",
    "import tweepy\n",
    "import pandas as pd\n",
    "import os\n",
    "\n",
    "print(\"Tweepy version: \" + tweepy.__version__)\n",
    "print(\"Pandas version: \" + pd.__version__)"
   ]
  },
  {
   "cell_type": "code",
   "execution_count": 2,
   "metadata": {},
   "outputs": [
    {
     "name": "stdout",
     "output_type": "stream",
     "text": [
      "config.py exists\n",
      "API keys and tokens are imported\n"
     ]
    }
   ],
   "source": [
    "# import tokens from config.py file\n",
    "if os.path.isfile(\"config.py\"):\n",
    "    print(\"config.py exists\\nAPI keys and tokens are imported\")\n",
    "    from config import consumer_key, consumer_secret, access_token, access_token_secret\n",
    "else:\n",
    "    print(\"config.py does not exist\\nPlease add config.py to proceed\")"
   ]
  },
  {
   "cell_type": "markdown",
   "metadata": {},
   "source": [
    "# Setting up API"
   ]
  },
  {
   "cell_type": "code",
   "execution_count": 3,
   "metadata": {},
   "outputs": [],
   "source": [
    "# setup consumer API key\n",
    "auth = tweepy.OAuthHandler(\n",
    "    consumer_key,\n",
    "    consumer_secret\n",
    ")\n",
    "\n",
    "# setup access token\n",
    "auth.set_access_token(\n",
    "    access_token,\n",
    "    access_token_secret\n",
    ")\n",
    "\n",
    "# create API variable\n",
    "api = tweepy.API(\n",
    "    auth, \n",
    "    wait_on_rate_limit = True\n",
    ")"
   ]
  },
  {
   "cell_type": "code",
   "execution_count": 4,
   "metadata": {},
   "outputs": [
    {
     "name": "stdout",
     "output_type": "stream",
     "text": [
      "Authentication OK\n"
     ]
    }
   ],
   "source": [
    "# check if API credentials work\n",
    "try:\n",
    "    api.verify_credentials()\n",
    "    print(\"Authentication OK\")\n",
    "except:\n",
    "    print(\"Error during authentication\")"
   ]
  },
  {
   "cell_type": "markdown",
   "metadata": {},
   "source": [
    "# Testing Twitter API"
   ]
  },
  {
   "cell_type": "code",
   "execution_count": 5,
   "metadata": {},
   "outputs": [
    {
     "name": "stdout",
     "output_type": "stream",
     "text": [
      "0    @p_c_bauer @MichaelImre Nice project! Seems to be a very rare coincidence, I worked basically on the same project last year while using the same name 😄\\nhttps://t.co/QQtOQ...\n",
      "Name: full_text, dtype: object\n"
     ]
    }
   ],
   "source": [
    "# test if user_timeline method works with own twitter account\n",
    "tweets_lw = api.user_timeline(\n",
    "    screen_name = \"lukas_warode\",\n",
    "    count = 1,\n",
    "    include_rts = False,\n",
    "    tweet_mode = \"extended\"\n",
    ")\n",
    "\n",
    "# print type of user_timeline method object\n",
    "type(tweets_lw)\n",
    "\n",
    "# function to convert tweepy object to a pandas dataframe\n",
    "def timeline_to_df(tweepy_timeline):\n",
    "    json_data = [r._json for r in tweepy_timeline]\n",
    "    df = pd.json_normalize(json_data)\n",
    "    return df\n",
    "\n",
    "# apply function \n",
    "tweets_lw_df = timeline_to_df(tweets_lw)\n",
    "\n",
    "# print full text column of tweet dataframe\n",
    "pd.options.display.max_colwidth = int(tweets_lw_df[\"full_text\"].str.len())\n",
    "print(tweets_lw_df[\"full_text\"])"
   ]
  },
  {
   "cell_type": "code",
   "execution_count": 6,
   "metadata": {},
   "outputs": [
    {
     "name": "stdout",
     "output_type": "stream",
     "text": [
      "0    @p_c_bauer @MichaelImre Nice project! Seems to be a very rare coincidence, I worked basically on the same project last year while using the same name 😄\\nhttps://t.co/QQtOQ...\n",
      "Name: full_text, dtype: object\n"
     ]
    }
   ],
   "source": [
    "\n",
    "# print full text column of tweet dataframe\n",
    "pd.options.display.max_colwidth = int(tweets_lw_df[\"full_text\"].str.len())\n",
    "print(tweets_lw_df[\"full_text\"])"
   ]
  },
  {
   "cell_type": "markdown",
   "metadata": {},
   "source": [
    "# Use csv file from WZB project to extract list of German MPs' Twitter accounts\n",
    "## (Project author: Markus Konrad)"
   ]
  },
  {
   "cell_type": "code",
   "execution_count": 7,
   "metadata": {},
   "outputs": [],
   "source": [
    "# read csv as dataframe from GitHub repository\n",
    "wzb_df = pd.read_csv(\"https://raw.githubusercontent.com/WZBSocialScienceCenter/mdb-twitter-network/master/data/deputies_twitter_20190702.csv\")\n",
    "\n",
    "# create subset with the 2 relevant columns and drop NAs\n",
    "twitter_df = wzb_df[[\"twitter_name\", \"party\"]].dropna()"
   ]
  },
  {
   "cell_type": "markdown",
   "metadata": {},
   "source": [
    "# Sampling approaches\n",
    "## a) Get random MP Twitter handles"
   ]
  },
  {
   "cell_type": "code",
   "execution_count": 8,
   "metadata": {},
   "outputs": [
    {
     "name": "stdout",
     "output_type": "stream",
     "text": [
      " andrealindholz\n",
      " lothar_binding\n",
      " stefangelbhaar\n",
      "           w_sk\n",
      "fritzfelgentreu\n"
     ]
    }
   ],
   "source": [
    "# Function to extract random MPs' Twitter handeles\n",
    "def random_sample_handle(df, n):\n",
    "    sample = df[[\"twitter_name\"]].sample(n = n)\n",
    "    name_string = sample.to_string(index = False, header = False)\n",
    "    return name_string\n",
    "\n",
    "# apply function\n",
    "print(\n",
    "    random_sample_handle(\n",
    "        df = twitter_df,\n",
    "        n = 5\n",
    "    )\n",
    ")"
   ]
  },
  {
   "cell_type": "markdown",
   "metadata": {},
   "source": [
    "## b) Extract Twitter handles by popularity"
   ]
  },
  {
   "cell_type": "code",
   "execution_count": 9,
   "metadata": {},
   "outputs": [
    {
     "name": "stdout",
     "output_type": "stream",
     "text": [
      "['kirstenkappert', 'konstantinnotz', 'markuskurthmdb', 'babetteschefin', 'sven_kindler', 'agnieszka_mdb', 'goeringeckardt', 'markustressel', 'beatewaro', 'julia_verlinden', 'jtrittin', 'k_sa', 'ulle_schauws', 'schickgerhard', 'manuelsarrazin', 'tabearoessner', 'crueffer', 'lisapaus', 'fostendorff', 'cem_oezdemir', 'nouripour', 'gruenebeate', 'irenemihalic', 'tobiaslindner', 'steffilemke', 'monikalazar', 'renatekuenast', 'chriskuehn_mdb', 'stephankuehn', 'oliver_krischer', 'mariaklschmeink', 'uwekekeritz', 'djanecek', 'brihasselmann', 'hajdukbundestag', 'kaigehring', 'matthiasgastel', 'katjadoerner', 'katdro', 'ebner_sha', 'ekindeligoez', 'fbrantner', 'kerstinandreae', 'abaerbock', 'w_sk', 'lieblingxhain', 'stefangelbhaar', 'danywagner_da', 'badulrichmartha', 'gruenclaudia', 'derdanyal', 'margaretebause', 'filizgreen', 'owvonholtz', 'svenlehmann', 'annachristmann']\n"
     ]
    }
   ],
   "source": [
    "# follower count function\n",
    "def follower_count_fun(twitter_handle):\n",
    "    try: \n",
    "        user = api.get_user(screen_name = twitter_handle)\n",
    "        count = user.followers_count\n",
    "        return count\n",
    "    except tweepy.TweepyException:\n",
    "        pass\n",
    "\n",
    "# for demonstration and simplification purposes we create a subset with Green MPs\n",
    "twitter_df_greens = twitter_df[twitter_df[\"party\"] == \"DIE GRÜNEN\"]\n",
    "\n",
    "# store Twitter handles as list from data frame (column) with a function\n",
    "def col_to_tidy_list(df, col):\n",
    "    col_string = df[[col]].to_string(index = False, header = False)\n",
    "    tidy_string = col_string.replace(\" \", \"\")\n",
    "    tidy_list = tidy_string.split(\"\\n\")\n",
    "    return tidy_list\n",
    "\n",
    "# test and print results\n",
    "twitter_handles_list = col_to_tidy_list(\n",
    "    twitter_df_greens,\n",
    "    \"twitter_name\"\n",
    ")\n",
    "\n",
    "print(twitter_handles_list)"
   ]
  },
  {
   "cell_type": "code",
   "execution_count": 10,
   "metadata": {},
   "outputs": [],
   "source": [
    "# apply function in a for loop and store follower count in list\n",
    "follower_count_list = []\n",
    "\n",
    "for twitter_name in twitter_handles_list:\n",
    "    follower_count_list.append(\n",
    "        follower_count_fun(twitter_name)\n",
    "    )"
   ]
  },
  {
   "cell_type": "code",
   "execution_count": 11,
   "metadata": {},
   "outputs": [
    {
     "name": "stdout",
     "output_type": "stream",
     "text": [
      "[6194, 84955, 3963, None, 19422, 13577, 200537, 2012, None, 9569, 115093, 7415, 7682, 11899, 6524, 9208, 3429, 10953, None, 279590, 27582, 5744, 8857, 8897, 17437, 6331, 76514, 4450, 7485, 19540, 7651, 3351, 13616, 35254, 2390, 11903, 7413, 17858, 8398, 5337, 9375, 12738, 8865, 410042, 7506, 12863, 7740, 1707, 5589, 3047, 16986, 7330, 5547, 1740, 21858, 5051]\n"
     ]
    }
   ],
   "source": [
    "# print results \n",
    "print(follower_count_list)"
   ]
  },
  {
   "cell_type": "code",
   "execution_count": 12,
   "metadata": {},
   "outputs": [
    {
     "name": "stdout",
     "output_type": "stream",
     "text": [
      "        twitter_name       party  follower_count\n",
      "34    kirstenkappert  DIE GRÜNEN          6194.0\n",
      "47    konstantinnotz  DIE GRÜNEN         84955.0\n",
      "67    markuskurthmdb  DIE GRÜNEN          3963.0\n",
      "68    babetteschefin  DIE GRÜNEN             NaN\n",
      "71      sven_kindler  DIE GRÜNEN         19422.0\n",
      "84     agnieszka_mdb  DIE GRÜNEN         13577.0\n",
      "92    goeringeckardt  DIE GRÜNEN        200537.0\n",
      "98     markustressel  DIE GRÜNEN          2012.0\n",
      "122        beatewaro  DIE GRÜNEN             NaN\n",
      "129  julia_verlinden  DIE GRÜNEN          9569.0\n",
      "135         jtrittin  DIE GRÜNEN        115093.0\n",
      "166             k_sa  DIE GRÜNEN          7415.0\n",
      "176     ulle_schauws  DIE GRÜNEN          7682.0\n",
      "179    schickgerhard  DIE GRÜNEN         11899.0\n",
      "185   manuelsarrazin  DIE GRÜNEN          6524.0\n",
      "189    tabearoessner  DIE GRÜNEN          9208.0\n",
      "194         crueffer  DIE GRÜNEN          3429.0\n",
      "221         lisapaus  DIE GRÜNEN         10953.0\n",
      "226      fostendorff  DIE GRÜNEN             NaN\n",
      "228     cem_oezdemir  DIE GRÜNEN        279590.0\n",
      "229        nouripour  DIE GRÜNEN         27582.0\n",
      "242      gruenebeate  DIE GRÜNEN          5744.0\n",
      "251     irenemihalic  DIE GRÜNEN          8857.0\n",
      "270    tobiaslindner  DIE GRÜNEN          8897.0\n",
      "276      steffilemke  DIE GRÜNEN         17437.0\n",
      "279      monikalazar  DIE GRÜNEN          6331.0\n",
      "288    renatekuenast  DIE GRÜNEN         76514.0\n",
      "290   chriskuehn_mdb  DIE GRÜNEN          4450.0\n",
      "291     stephankuehn  DIE GRÜNEN          7485.0\n",
      "296  oliver_krischer  DIE GRÜNEN         19540.0\n",
      "304  mariaklschmeink  DIE GRÜNEN          7651.0\n",
      "317      uwekekeritz  DIE GRÜNEN          3351.0\n",
      "326         djanecek  DIE GRÜNEN         13616.0\n",
      "352    brihasselmann  DIE GRÜNEN         35254.0\n",
      "357  hajdukbundestag  DIE GRÜNEN          2390.0\n",
      "375       kaigehring  DIE GRÜNEN         11903.0\n",
      "380   matthiasgastel  DIE GRÜNEN          7413.0\n",
      "397     katjadoerner  DIE GRÜNEN         17858.0\n",
      "399           katdro  DIE GRÜNEN          8398.0\n",
      "401        ebner_sha  DIE GRÜNEN          5337.0\n",
      "402     ekindeligoez  DIE GRÜNEN          9375.0\n",
      "416        fbrantner  DIE GRÜNEN         12738.0\n",
      "439   kerstinandreae  DIE GRÜNEN          8865.0\n",
      "443        abaerbock  DIE GRÜNEN        410042.0\n",
      "446             w_sk  DIE GRÜNEN          7506.0\n",
      "466    lieblingxhain  DIE GRÜNEN         12863.0\n",
      "468   stefangelbhaar  DIE GRÜNEN          7740.0\n",
      "491    danywagner_da  DIE GRÜNEN          1707.0\n",
      "499  badulrichmartha  DIE GRÜNEN          5589.0\n",
      "506     gruenclaudia  DIE GRÜNEN          3047.0\n",
      "507        derdanyal  DIE GRÜNEN         16986.0\n",
      "540   margaretebause  DIE GRÜNEN          7330.0\n",
      "553       filizgreen  DIE GRÜNEN          5547.0\n",
      "554       owvonholtz  DIE GRÜNEN          1740.0\n",
      "647      svenlehmann  DIE GRÜNEN         21858.0\n",
      "649   annachristmann  DIE GRÜNEN          5051.0\n"
     ]
    },
    {
     "name": "stderr",
     "output_type": "stream",
     "text": [
      "/var/folders/0z/2zjv_gf504q12hx7wv13j4y80000gn/T/ipykernel_47272/1539880663.py:2: SettingWithCopyWarning: \n",
      "A value is trying to be set on a copy of a slice from a DataFrame.\n",
      "Try using .loc[row_indexer,col_indexer] = value instead\n",
      "\n",
      "See the caveats in the documentation: https://pandas.pydata.org/pandas-docs/stable/user_guide/indexing.html#returning-a-view-versus-a-copy\n",
      "  twitter_df_greens[\"follower_count\"] = follower_count_list\n"
     ]
    }
   ],
   "source": [
    "# add follower count list to data fraeme as a numeric column\n",
    "twitter_df_greens[\"follower_count\"] = follower_count_list\n",
    "\n",
    "# print transformed data frame\n",
    "print(twitter_df_greens)"
   ]
  },
  {
   "cell_type": "code",
   "execution_count": 13,
   "metadata": {},
   "outputs": [
    {
     "name": "stdout",
     "output_type": "stream",
     "text": [
      "abaerbock\n"
     ]
    }
   ],
   "source": [
    "# filter observation with highest follower count\n",
    "max_followers = twitter_df_greens[\"follower_count\"].max()\n",
    "\n",
    "twitter_df_greens[twitter_df_greens[\"follower_count\"] == max_followers]\n",
    "\n",
    "# get twitter name column with highest follower count as string\n",
    "most_followers_mp = twitter_df_greens[twitter_df_greens[\"follower_count\"] == max_followers][\"twitter_name\"].to_string(index = False, header = False)\n",
    "\n",
    "print(most_followers_mp)"
   ]
  },
  {
   "cell_type": "markdown",
   "metadata": {},
   "source": [
    "# Tweet extraction\n",
    "## convert `user_timeline` of **Annalena Baerbock** to data frame"
   ]
  },
  {
   "cell_type": "code",
   "execution_count": 14,
   "metadata": {},
   "outputs": [
    {
     "name": "stdout",
     "output_type": "stream",
     "text": [
      "                         created_at                   id               id_str  \\\n",
      "0    Tue Dec 07 14:58:54 +0000 2021  1468233562742788111  1468233562742788111   \n",
      "1    Thu Dec 02 19:01:22 +0000 2021  1466482642942054400  1466482642942054400   \n",
      "2    Thu Dec 02 19:01:22 +0000 2021  1466482641578999817  1466482641578999817   \n",
      "3    Thu Dec 02 19:01:21 +0000 2021  1466482640102510601  1466482640102510601   \n",
      "4    Sun Nov 28 15:45:00 +0000 2021  1464983672415608834  1464983672415608834   \n",
      "..                              ...                  ...                  ...   \n",
      "173  Sat May 08 08:30:44 +0000 2021  1390947262277238785  1390947262277238785   \n",
      "174  Sat May 08 08:30:44 +0000 2021  1390947260129857537  1390947260129857537   \n",
      "175  Fri May 07 14:27:36 +0000 2021  1390674683910053895  1390674683910053895   \n",
      "176  Fri May 07 14:26:36 +0000 2021  1390674430251122692  1390674430251122692   \n",
      "177  Sat May 01 11:23:27 +0000 2021  1388454010798096386  1388454010798096386   \n",
      "\n",
      "                                                                                                                                                                          full_text  \\\n",
      "0    Mit dem #Koalitionsvertrag, den SPD, FDP und wir heute unterzeichnet haben, kommen wir endlich auf der Höhe der gesellschaftlichen Realität an. Leitbild unserer gemeinsame...   \n",
      "1                         Mit der offiziellen Verabschiedung heute Abend beginnt dann ein neuer Lebensabschnitt für Angela Merkel. Dafür wünsche ich ihr von Herzen alles Gute! 3/3   \n",
      "2                         Sich selbst zurücknehmen zu können und in den Dienst der Sache zu stellen, hat das Machtverständnis der Republik – und ja, auch der Welt – verändert. 2/3   \n",
      "3    Unser Land hat Angela Merkels politischer Ära \\nStabilität und Freiheit in Krisenzeiten zu verdanken sowie einen anderen Politikstil: nicht laut auf den Tisch hauend, sond...   \n",
      "4    Jüdische Gemeinden in aller Welt feiern ab heute Nachmittag Chanukka, das Lichterfest. Mit dem Licht der Chanukka-Kerzen vergrößert sich der Lichtkegel von Vielfalt, Demok...   \n",
      "..                                                                                                                                                                              ...   \n",
      "173  Boris Palmer hat deshalb unsere politische Unterstützung verloren. Nach dem erneuten Vorfall beraten unsere Landes- und Bundesgremien über die entsprechenden Konsequenzen,...   \n",
      "174  Die Äußerung von Boris #Palmer ist rassistisch und abstoßend. Sich nachträglich auf Ironie zu berufen, macht es nicht ungeschehen. Das Ganze reiht sich ein in immer neue P...   \n",
      "175  Bringen wir das Klimaschutzsofortprogramm auf den Weg\\n1)Klimaschutzziel 2030: -70%\\n2)Schneller Ausbaus v Erneuerbaren Energien \\n3)Abbau umweltschädlicher Subventionen\\n...   \n",
      "176  Wer das Klima schützt, schützt die Freiheit. #Klimaschutz ist nicht einfach nur Umweltpolitik. Es geht ums Ganze. #ErneuerbareEnergien müssen schneller ausgebaut werden. U...   \n",
      "177  Wir brauchen faire Löhne in ganz Deutschland und gleiche Löhne in Ost und West. Der Mindestlohn gehört auf 12 Euro erhöht. Wir wollen investieren in gute Löhne und Arbeits...   \n",
      "\n",
      "     truncated display_text_range  \\\n",
      "0        False           [0, 226]   \n",
      "1        False           [0, 153]   \n",
      "2        False           [0, 153]   \n",
      "3        False           [0, 212]   \n",
      "4        False           [0, 237]   \n",
      "..         ...                ...   \n",
      "173      False           [0, 206]   \n",
      "174      False           [0, 227]   \n",
      "175      False           [0, 280]   \n",
      "176      False           [0, 280]   \n",
      "177      False           [0, 228]   \n",
      "\n",
      "                                                                                  source  \\\n",
      "0     <a href=\"http://twitter.com/download/iphone\" rel=\"nofollow\">Twitter for iPhone</a>   \n",
      "1     <a href=\"http://twitter.com/download/iphone\" rel=\"nofollow\">Twitter for iPhone</a>   \n",
      "2     <a href=\"http://twitter.com/download/iphone\" rel=\"nofollow\">Twitter for iPhone</a>   \n",
      "3     <a href=\"http://twitter.com/download/iphone\" rel=\"nofollow\">Twitter for iPhone</a>   \n",
      "4                <a href=\"https://mobile.twitter.com\" rel=\"nofollow\">Twitter Web App</a>   \n",
      "..                                                                                   ...   \n",
      "173              <a href=\"https://mobile.twitter.com\" rel=\"nofollow\">Twitter Web App</a>   \n",
      "174              <a href=\"https://mobile.twitter.com\" rel=\"nofollow\">Twitter Web App</a>   \n",
      "175   <a href=\"http://twitter.com/download/iphone\" rel=\"nofollow\">Twitter for iPhone</a>   \n",
      "176  <a href=\"https://about.twitter.com/products/tweetdeck\" rel=\"nofollow\">TweetDeck</a>   \n",
      "177              <a href=\"https://mobile.twitter.com\" rel=\"nofollow\">Twitter Web App</a>   \n",
      "\n",
      "     in_reply_to_status_id in_reply_to_status_id_str  in_reply_to_user_id  \\\n",
      "0                      NaN                      None                  NaN   \n",
      "1             1.466483e+18       1466482641578999817         2.179011e+09   \n",
      "2             1.466483e+18       1466482640102510601         2.179011e+09   \n",
      "3                      NaN                      None                  NaN   \n",
      "4                      NaN                      None                  NaN   \n",
      "..                     ...                       ...                  ...   \n",
      "173           1.390947e+18       1390947260129857537         2.179011e+09   \n",
      "174                    NaN                      None                  NaN   \n",
      "175           1.390674e+18       1390674430251122692         2.179011e+09   \n",
      "176                    NaN                      None                  NaN   \n",
      "177           1.388454e+18       1388454008684220416         2.179011e+09   \n",
      "\n",
      "     ... quoted_status.contributors quoted_status.is_quote_status  \\\n",
      "0    ...                        NaN                           NaN   \n",
      "1    ...                        NaN                           NaN   \n",
      "2    ...                        NaN                           NaN   \n",
      "3    ...                        NaN                           NaN   \n",
      "4    ...                        NaN                           NaN   \n",
      "..   ...                        ...                           ...   \n",
      "173  ...                        NaN                           NaN   \n",
      "174  ...                        NaN                           NaN   \n",
      "175  ...                        NaN                           NaN   \n",
      "176  ...                        NaN                           NaN   \n",
      "177  ...                        NaN                           NaN   \n",
      "\n",
      "    quoted_status.retweet_count quoted_status.favorite_count  \\\n",
      "0                           NaN                          NaN   \n",
      "1                           NaN                          NaN   \n",
      "2                           NaN                          NaN   \n",
      "3                           NaN                          NaN   \n",
      "4                           NaN                          NaN   \n",
      "..                          ...                          ...   \n",
      "173                         NaN                          NaN   \n",
      "174                         NaN                          NaN   \n",
      "175                         NaN                          NaN   \n",
      "176                         NaN                          NaN   \n",
      "177                         NaN                          NaN   \n",
      "\n",
      "    quoted_status.favorited quoted_status.retweeted  \\\n",
      "0                       NaN                     NaN   \n",
      "1                       NaN                     NaN   \n",
      "2                       NaN                     NaN   \n",
      "3                       NaN                     NaN   \n",
      "4                       NaN                     NaN   \n",
      "..                      ...                     ...   \n",
      "173                     NaN                     NaN   \n",
      "174                     NaN                     NaN   \n",
      "175                     NaN                     NaN   \n",
      "176                     NaN                     NaN   \n",
      "177                     NaN                     NaN   \n",
      "\n",
      "     quoted_status.possibly_sensitive  quoted_status.lang  \\\n",
      "0                                 NaN                 NaN   \n",
      "1                                 NaN                 NaN   \n",
      "2                                 NaN                 NaN   \n",
      "3                                 NaN                 NaN   \n",
      "4                                 NaN                 NaN   \n",
      "..                                ...                 ...   \n",
      "173                               NaN                 NaN   \n",
      "174                               NaN                 NaN   \n",
      "175                               NaN                 NaN   \n",
      "176                               NaN                 NaN   \n",
      "177                               NaN                 NaN   \n",
      "\n",
      "     quoted_status.entities.media  quoted_status.extended_entities.media  \n",
      "0                             NaN                                    NaN  \n",
      "1                             NaN                                    NaN  \n",
      "2                             NaN                                    NaN  \n",
      "3                             NaN                                    NaN  \n",
      "4                             NaN                                    NaN  \n",
      "..                            ...                                    ...  \n",
      "173                           NaN                                    NaN  \n",
      "174                           NaN                                    NaN  \n",
      "175                           NaN                                    NaN  \n",
      "176                           NaN                                    NaN  \n",
      "177                           NaN                                    NaN  \n",
      "\n",
      "[178 rows x 151 columns]\n"
     ]
    }
   ],
   "source": [
    "# extract tweets\n",
    "baerbock_tweets = api.user_timeline(\n",
    "    # MP with most followers (Greens) - Annalena Baerbock\n",
    "    screen_name = most_followers_mp,\n",
    "    # maximum number of tweets extractable\n",
    "    count = 200,\n",
    "    # do not include retweets\n",
    "    include_rts = False,\n",
    "    # scope of retrieved information\n",
    "    tweet_mode = \"extended\"\n",
    ")\n",
    "\n",
    "# apply function that converts timeline object to data frame\n",
    "baerbock_tweets_df = timeline_to_df(baerbock_tweets)\n",
    "\n",
    "# print data frame\n",
    "print(baerbock_tweets_df)"
   ]
  },
  {
   "cell_type": "markdown",
   "metadata": {},
   "source": [
    "## Save relevant columns as `.csv` file"
   ]
  },
  {
   "cell_type": "code",
   "execution_count": 15,
   "metadata": {},
   "outputs": [
    {
     "name": "stdout",
     "output_type": "stream",
     "text": [
      "                      id                      created_at  \\\n",
      "0    1468233562742788111  Tue Dec 07 14:58:54 +0000 2021   \n",
      "1    1466482642942054400  Thu Dec 02 19:01:22 +0000 2021   \n",
      "2    1466482641578999817  Thu Dec 02 19:01:22 +0000 2021   \n",
      "3    1466482640102510601  Thu Dec 02 19:01:21 +0000 2021   \n",
      "4    1464983672415608834  Sun Nov 28 15:45:00 +0000 2021   \n",
      "..                   ...                             ...   \n",
      "173  1390947262277238785  Sat May 08 08:30:44 +0000 2021   \n",
      "174  1390947260129857537  Sat May 08 08:30:44 +0000 2021   \n",
      "175  1390674683910053895  Fri May 07 14:27:36 +0000 2021   \n",
      "176  1390674430251122692  Fri May 07 14:26:36 +0000 2021   \n",
      "177  1388454010798096386  Sat May 01 11:23:27 +0000 2021   \n",
      "\n",
      "                                                                                                                                                                          full_text  \\\n",
      "0    Mit dem #Koalitionsvertrag, den SPD, FDP und wir heute unterzeichnet haben, kommen wir endlich auf der Höhe der gesellschaftlichen Realität an. Leitbild unserer gemeinsame...   \n",
      "1                         Mit der offiziellen Verabschiedung heute Abend beginnt dann ein neuer Lebensabschnitt für Angela Merkel. Dafür wünsche ich ihr von Herzen alles Gute! 3/3   \n",
      "2                         Sich selbst zurücknehmen zu können und in den Dienst der Sache zu stellen, hat das Machtverständnis der Republik – und ja, auch der Welt – verändert. 2/3   \n",
      "3    Unser Land hat Angela Merkels politischer Ära \\nStabilität und Freiheit in Krisenzeiten zu verdanken sowie einen anderen Politikstil: nicht laut auf den Tisch hauend, sond...   \n",
      "4    Jüdische Gemeinden in aller Welt feiern ab heute Nachmittag Chanukka, das Lichterfest. Mit dem Licht der Chanukka-Kerzen vergrößert sich der Lichtkegel von Vielfalt, Demok...   \n",
      "..                                                                                                                                                                              ...   \n",
      "173  Boris Palmer hat deshalb unsere politische Unterstützung verloren. Nach dem erneuten Vorfall beraten unsere Landes- und Bundesgremien über die entsprechenden Konsequenzen,...   \n",
      "174  Die Äußerung von Boris #Palmer ist rassistisch und abstoßend. Sich nachträglich auf Ironie zu berufen, macht es nicht ungeschehen. Das Ganze reiht sich ein in immer neue P...   \n",
      "175  Bringen wir das Klimaschutzsofortprogramm auf den Weg\\n1)Klimaschutzziel 2030: -70%\\n2)Schneller Ausbaus v Erneuerbaren Energien \\n3)Abbau umweltschädlicher Subventionen\\n...   \n",
      "176  Wer das Klima schützt, schützt die Freiheit. #Klimaschutz ist nicht einfach nur Umweltpolitik. Es geht ums Ganze. #ErneuerbareEnergien müssen schneller ausgebaut werden. U...   \n",
      "177  Wir brauchen faire Löhne in ganz Deutschland und gleiche Löhne in Ost und West. Der Mindestlohn gehört auf 12 Euro erhöht. Wir wollen investieren in gute Löhne und Arbeits...   \n",
      "\n",
      "    display_text_range  in_reply_to_user_id in_reply_to_screen_name  \\\n",
      "0             [0, 226]                  NaN                    None   \n",
      "1             [0, 153]         2.179011e+09               ABaerbock   \n",
      "2             [0, 153]         2.179011e+09               ABaerbock   \n",
      "3             [0, 212]                  NaN                    None   \n",
      "4             [0, 237]                  NaN                    None   \n",
      "..                 ...                  ...                     ...   \n",
      "173           [0, 206]         2.179011e+09               ABaerbock   \n",
      "174           [0, 227]                  NaN                    None   \n",
      "175           [0, 280]         2.179011e+09               ABaerbock   \n",
      "176           [0, 280]                  NaN                    None   \n",
      "177           [0, 228]         2.179011e+09               ABaerbock   \n",
      "\n",
      "     is_quote_status  retweet_count  favorite_count possibly_sensitive  \n",
      "0              False             10             288              False  \n",
      "1              False             92            6208                NaN  \n",
      "2              False             93            5288                NaN  \n",
      "3              False            384           10470                NaN  \n",
      "4              False            183            3558                NaN  \n",
      "..               ...            ...             ...                ...  \n",
      "173            False            951           18572                NaN  \n",
      "174            False           1958           23341                NaN  \n",
      "175            False            149            2234                NaN  \n",
      "176            False            426            4338              False  \n",
      "177            False            136            3219                NaN  \n",
      "\n",
      "[178 rows x 10 columns]\n"
     ]
    }
   ],
   "source": [
    "# create subset of complete data frame\n",
    "baerbock_tweets_subset_df = baerbock_tweets_df[[\n",
    "    \"id\", \n",
    "    \"created_at\",\n",
    "    \"full_text\",\n",
    "    \"display_text_range\",\n",
    "    \"in_reply_to_user_id\",\n",
    "    \"in_reply_to_screen_name\",\n",
    "    \"is_quote_status\",\n",
    "    \"retweet_count\",\n",
    "    \"favorite_count\",\n",
    "    \"possibly_sensitive\"\n",
    "]]\n",
    "\n",
    "# print subsetted data frame\n",
    "print(baerbock_tweets_subset_df)"
   ]
  },
  {
   "cell_type": "code",
   "execution_count": 16,
   "metadata": {},
   "outputs": [
    {
     "name": "stdout",
     "output_type": "stream",
     "text": [
      "baerbock_tweets.csv did not exist before\n",
      "Tweets are saved in a csv file\n"
     ]
    }
   ],
   "source": [
    "# save data frame as csv in case it does not already exist\n",
    "if os.path.isfile(\"baerbock_tweets.csv\"):\n",
    "    print(\"baerbock_tweets.csv already exists\")\n",
    "else:\n",
    "    print(\"baerbock_tweets.csv did not exist before\\nTweets are saved in a csv file\")\n",
    "    baerbock_tweets_subset_df.to_csv(\"baerbock_tweets.csv\")"
   ]
  }
 ],
 "metadata": {
  "interpreter": {
   "hash": "31f2aee4e71d21fbe5cf8b01ff0e069b9275f58929596ceb00d14d90e3e16cd6"
  },
  "kernelspec": {
   "display_name": "Python 3.8.9 64-bit",
   "language": "python",
   "name": "python3"
  },
  "language_info": {
   "codemirror_mode": {
    "name": "ipython",
    "version": 3
   },
   "file_extension": ".py",
   "mimetype": "text/x-python",
   "name": "python",
   "nbconvert_exporter": "python",
   "pygments_lexer": "ipython3",
   "version": "3.8.9"
  },
  "orig_nbformat": 4
 },
 "nbformat": 4,
 "nbformat_minor": 2
}
