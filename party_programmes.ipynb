{
 "cells": [
  {
   "cell_type": "markdown",
   "metadata": {},
   "source": [
    "# Extracting text from Germany party programs\n",
    "\n",
    "How often do certain keywords come up in different party programmes. \n",
    "The goal here is a dataframe summarizing the different party programms"
   ]
  },
  {
   "cell_type": "code",
   "execution_count": null,
   "metadata": {},
   "outputs": [
    {
     "name": "stderr",
     "output_type": "stream",
     "text": [
      "[nltk_data] Downloading package stopwords to\n",
      "[nltk_data]     /Users/johannes/nltk_data...\n",
      "[nltk_data]   Package stopwords is already up-to-date!\n"
     ]
    }
   ],
   "source": [
    "# Packages\n",
    "#!pip install tika\n",
    "from tika import parser \n",
    "import glob\n",
    "import nltk\n",
    "from nltk import sent_tokenize\n",
    "from nltk.corpus import stopwords\n",
    "nltk.download('stopwords')\n",
    "from nltk.tokenize import word_tokenize\n",
    "import matplotlib.pyplot as plt \n",
    "import pandas as pd\n",
    "from collections import Counter"
   ]
  },
  {
   "cell_type": "code",
   "execution_count": null,
   "metadata": {},
   "outputs": [
    {
     "name": "stdout",
     "output_type": "stream",
     "text": [
      "['party_programmes/SPD-Zukunftsprogramm.pdf', 'party_programmes/eyjg.pdf', 'party_programmes/20210611_AfD_Programm_2021.pdf', 'party_programmes/gruene.txt', 'party_programmes/programm_der_partei_die_linke_erfurt2011_druckfassung2020.pdf', 'party_programmes/Wahlprogramm-DIE-GRUENEN-Bundestagswahl-2021_barrierefrei.pdf', 'party_programmes/FDP_BTW2021_Wahlprogramm_1.pdf', 'party_programmes/DIE_LINKE_Wahlprogramm_zur_Bundestagswahl_2021.pdf']\n"
     ]
    }
   ],
   "source": [
    "print(glob.glob('party_programmes/*'))"
   ]
  },
  {
   "cell_type": "code",
   "execution_count": 6,
   "metadata": {},
   "outputs": [],
   "source": [
    "files = glob.glob('party_programmes/*')\n",
    "\n",
    "\n",
    "spd_raw = parser.from_file('party_programmes/SPD-Zukunftsprogramm.pdf')\n",
    "cdu_raw = parser.from_file('party_programmes/eyjg.pdf')\n",
    "afd_raw = parser.from_file('party_programmes/20210611_AfD_Programm_2021.pdf')\n",
    "fdp_raw = parser.from_file('party_programmes/FDP_BTW2021_Wahlprogramm_1.pdf')\n",
    "linke_raw = parser.from_file('party_programmes/DIE_LINKE_Wahlprogramm_zur_Bundestagswahl_2021.pdf')\n",
    "gruene_raw = parser.from_file('party_programmes/Wahlprogramm-DIE-GRUENEN-Bundestagswahl-2021_barrierefrei.pdf')"
   ]
  },
  {
   "cell_type": "code",
   "execution_count": 7,
   "metadata": {},
   "outputs": [],
   "source": [
    "\n",
    "#remove linebreaks\n",
    "nonnewline = spd_raw['content'].strip()\n",
    "\n",
    "#separate the text into individual words\n",
    "text_tokens = word_tokenize(nonnewline)\n",
    "\n",
    "#delete all stopwords\n",
    "tokens_without_sw = [word for word in text_tokens if not word in stopwords.words('german')]"
   ]
  },
  {
   "cell_type": "code",
   "execution_count": 8,
   "metadata": {},
   "outputs": [],
   "source": [
    "#check out how many words we could inspect\n",
    "counted_words = Counter(tokens_without_sw)"
   ]
  },
  {
   "cell_type": "code",
   "execution_count": 9,
   "metadata": {},
   "outputs": [
    {
     "data": {
      "text/plain": [
       "3"
      ]
     },
     "execution_count": 9,
     "metadata": {},
     "output_type": "execute_result"
    }
   ],
   "source": [
    "#for each word we can access the number of words we got\n",
    "counted_words[\"Klimawandels\"]"
   ]
  },
  {
   "cell_type": "code",
   "execution_count": 10,
   "metadata": {},
   "outputs": [],
   "source": [
    "file1=open(r\"party_programmes/gruene.txt\",\"a\")\n",
    "file1.writelines(gruene_raw['content'].strip())"
   ]
  },
  {
   "cell_type": "code",
   "execution_count": null,
   "metadata": {},
   "outputs": [],
   "source": []
  }
 ],
 "metadata": {
  "interpreter": {
   "hash": "acf825a93f1d67e9b21f3d7be3de1b7301682f1e83d4489e56181e84878ca65e"
  },
  "kernelspec": {
   "display_name": "Python 3.8.5 64-bit ('base': conda)",
   "name": "python3"
  },
  "language_info": {
   "codemirror_mode": {
    "name": "ipython",
    "version": 3
   },
   "file_extension": ".py",
   "mimetype": "text/x-python",
   "name": "python",
   "nbconvert_exporter": "python",
   "pygments_lexer": "ipython3",
   "version": "3.8.5"
  },
  "orig_nbformat": 4
 },
 "nbformat": 4,
 "nbformat_minor": 2
}
