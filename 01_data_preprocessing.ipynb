{
 "cells": [
  {
   "cell_type": "markdown",
   "metadata": {},
   "source": [
    "# Packages\n",
    "\n",
    "As a first step, all packages for the data prepocessing/data acquisition are imported: \n",
    "1. The ``tweepy`` library (https://docs.tweepy.org/en/stable/) can be used to access the Twitter API for storing the relevant tweets and further information. For using Tweepy to extract tweets, we first needed to apply for developer credentials including private consumer keys and access tokens. \n",
    "2. ``Pandas`` is imported for first minor data transformations and reading in the politician's twitter handles. \n",
    "3. The ``os`` library is used to check the path of the configuration file which contains the import tokens. "
   ]
  },
  {
   "cell_type": "code",
   "execution_count": 1,
   "metadata": {},
   "outputs": [
    {
     "name": "stdout",
     "output_type": "stream",
     "text": [
      "Tweepy version: 4.4.0\n",
      "Pandas version: 1.3.4\n"
     ]
    }
   ],
   "source": [
    "# packages\n",
    "import tweepy\n",
    "import pandas as pd\n",
    "import os\n",
    "\n",
    "print(\"Tweepy version: \" + tweepy.__version__)\n",
    "print(\"Pandas version: \" + pd.__version__)"
   ]
  },
  {
   "cell_type": "markdown",
   "metadata": {},
   "source": [
    "### Importing the relevant consumer keys and access tokens\n",
    "\n",
    "The respective keys and tokens were retrieved from the personal twitter developer account and stored in a separate file (config.py). The next chunk extracts the keys and tokens from the config file, which itself is not pushed to the GitHub repository. The if-else statement prints a confirmation in case that a config file exists on the local machine of the user, and an alternative statement if it is not."
   ]
  },
  {
   "cell_type": "code",
   "execution_count": 2,
   "metadata": {},
   "outputs": [
    {
     "name": "stdout",
     "output_type": "stream",
     "text": [
      "config.py exists\n",
      "API keys and tokens are imported\n"
     ]
    }
   ],
   "source": [
    "# import tokens from config.py file\n",
    "if os.path.isfile(\"config.py\"):\n",
    "    print(\"config.py exists\\nAPI keys and tokens are imported\")\n",
    "    from config import consumer_key, consumer_secret, access_token, access_token_secret\n",
    "else:\n",
    "    print(\"config.py does not exist\\nPlease add config.py to proceed\")"
   ]
  },
  {
   "cell_type": "markdown",
   "metadata": {},
   "source": [
    "# Setting up API\n",
    "\n",
    "In the next chunk, the previously stored consumer keys are passed to the OAuthHandler instance, using the tweepy library. Subsequently, also the access token and secret need to be set up (which we also have stored in strings in the previous chunk). Finally, a new API variable is created. The `wait_on_rate_limit`-argument is set to true (this is useful since there are certain rate limits set by Twitter which should not be exceeded). "
   ]
  },
  {
   "cell_type": "code",
   "execution_count": 3,
   "metadata": {},
   "outputs": [],
   "source": [
    "# setup consumer API key\n",
    "auth = tweepy.OAuthHandler(\n",
    "    consumer_key,\n",
    "    consumer_secret\n",
    ")\n",
    "\n",
    "# setup access token\n",
    "auth.set_access_token(\n",
    "    access_token,\n",
    "    access_token_secret\n",
    ")\n",
    "\n",
    "# create API variable\n",
    "api = tweepy.API(\n",
    "    auth, \n",
    "    wait_on_rate_limit = True\n",
    ")"
   ]
  },
  {
   "cell_type": "markdown",
   "metadata": {},
   "source": [
    "### Functionality test of the API credentials\n",
    "\n",
    "In this code chunk, the `verify_credentials`-function checks whether the credentials we read in earlier are valid. If so, a confirmation statement is printed. If the function runs into an error, an error message is printed. "
   ]
  },
  {
   "cell_type": "code",
   "execution_count": 4,
   "metadata": {},
   "outputs": [
    {
     "name": "stdout",
     "output_type": "stream",
     "text": [
      "Authentication OK\n"
     ]
    }
   ],
   "source": [
    "# check if API credentials work\n",
    "try:\n",
    "    api.verify_credentials()\n",
    "    print(\"Authentication OK\")\n",
    "except:\n",
    "    print(\"Error during authentication\")"
   ]
  },
  {
   "cell_type": "markdown",
   "metadata": {},
   "source": [
    "# Testing Twitter API\n",
    "\n",
    "After setting up the credentials, we check whether we can extract the most recent tweet in Lukas' timeline. For this task, we are using tweepy's `user_timeline`-function and storing its output in a new object. Inside of the function, we have to specify several arguments: \n",
    "1. The respective twitter handle/username with the ``screen_name``-argument \n",
    "2. The number of tweets we want to extract with the ``count``-argument \n",
    "3. Whether we want to include retweets (which we do not) with the ``include_rts``-argument\n",
    "4. Whether we want to extract the whole tweet (and not a truncated version). \n",
    "\n",
    "Subsequently, the function `timeline_to_df` is created, which takes a tweepy object has an input and converts it into a pandas dataframe by using the json_normalize function from the pandas library. "
   ]
  },
  {
   "cell_type": "code",
   "execution_count": 5,
   "metadata": {},
   "outputs": [
    {
     "name": "stdout",
     "output_type": "stream",
     "text": [
      "0    @p_c_bauer @MichaelImre Nice project! Seems to be a very rare coincidence, I worked basically on the same project last year while using the same name 😄\\nhttps://t.co/QQtOQ...\n",
      "Name: full_text, dtype: object\n"
     ]
    }
   ],
   "source": [
    "# test if user_timeline method works with own twitter account\n",
    "tweets_lw = api.user_timeline(\n",
    "    screen_name = \"lukas_warode\",\n",
    "    count = 1,\n",
    "    include_rts = False,\n",
    "    tweet_mode = \"extended\"\n",
    ")\n",
    "\n",
    "# print type of user_timeline method object\n",
    "type(tweets_lw)\n",
    "\n",
    "# function to convert tweepy object to a pandas dataframe\n",
    "def timeline_to_df(tweepy_timeline):\n",
    "    \"\"\"Take a tweety object input and return a pandas dataframe.\"\"\"\n",
    "    json_data = [r._json for r in tweepy_timeline]\n",
    "    df = pd.json_normalize(json_data)\n",
    "    return df\n",
    "\n",
    "# apply function \n",
    "tweets_lw_df = timeline_to_df(tweets_lw)\n",
    "\n",
    "# print full text column of tweet dataframe\n",
    "pd.options.display.max_colwidth = int(tweets_lw_df[\"full_text\"].str.len())\n",
    "print(tweets_lw_df[\"full_text\"])"
   ]
  },
  {
   "cell_type": "markdown",
   "metadata": {},
   "source": [
    "# Use csv file from WZB project to extract list of German MPs' Twitter accounts\n",
    "## (Project author: Markus Konrad)\n",
    "\n",
    "If we want to match every MP's tweets with their respective party programmes, we need their twitter handles. Luckily, Markus Konrad from WZB has done a quite similar project, and provides a file that contains all twitter handles from German MPs. In the next chunk, we read in this file with the ``read_csv```-function from the pandas library and creating a dataframe that only contains the **MP's handle** and his/her **party affiliation**. NAs are dropped, since we naturally only consider MPs that use Twitter.  "
   ]
  },
  {
   "cell_type": "code",
   "execution_count": 6,
   "metadata": {},
   "outputs": [],
   "source": [
    "# read csv as dataframe from GitHub repository\n",
    "wzb_df = pd.read_csv(\"https://raw.githubusercontent.com/WZBSocialScienceCenter/mdb-twitter-network/master/data/deputies_twitter_20190702.csv\")\n",
    "\n",
    "# create subset with the 2 relevant columns and drop NAs\n",
    "twitter_df = wzb_df[[\"twitter_name\", \"party\"]].dropna()"
   ]
  },
  {
   "cell_type": "markdown",
   "metadata": {},
   "source": [
    "# Sampling approaches\n",
    "## a) Get random MP Twitter handles\n",
    "\n",
    "To check whether the previous steps have worked, the following chunk creates a function (`random_sample_handle`) that returns a certain number of random twitter handles. The function takes two parameters:\n",
    "1. A dataframe in which the twitter handles are stored\n",
    "2. An integer that deteremines the number of the returned twitter handles \n",
    "\n",
    "Inside the function, the ``sample`` object specifies that a certain number of random handles, while the ``name_string`` object takes this object and converts it into a string. Finally, the ``name_string``-object is returned. \n",
    "\n",
    "Ultimately, the ``random_sample_handle`` is applied to our twitter handle dataframe (twitter_df), with the number of handles to be returned is set to 5. "
   ]
  },
  {
   "cell_type": "code",
   "execution_count": 7,
   "metadata": {},
   "outputs": [
    {
     "name": "stdout",
     "output_type": "stream",
     "text": [
      "     owvonholtz\n",
      "   katjakipping\n",
      "danielakluckert\n",
      "       dorobaer\n",
      "    gruenebeate\n"
     ]
    }
   ],
   "source": [
    "# Function to extract random MPs' Twitter handles\n",
    "def random_sample_handle(df, n):\n",
    "    \"\"\"\n",
    "    Take a twitter handle dataframe and a number and return a desired number of random handles.\n",
    "\n",
    "        Parameters:\n",
    "                df (str): A dataframe containing twitter handles\n",
    "                n (int): An integer \n",
    "        \n",
    "        Returns: \n",
    "                A specified number of random twitter handles\n",
    "    \"\"\"\n",
    "    sample = df[[\"twitter_name\"]].sample(n = n)\n",
    "    name_string = sample.to_string(index = False, header = False)\n",
    "    return name_string\n",
    "\n",
    "# apply function\n",
    "print(\n",
    "    random_sample_handle(\n",
    "        df = twitter_df,\n",
    "        n = 5\n",
    "    )\n",
    ")"
   ]
  },
  {
   "cell_type": "markdown",
   "metadata": {},
   "source": [
    "## b) Extract Twitter handles by popularity"
   ]
  },
  {
   "cell_type": "markdown",
   "metadata": {},
   "source": [
    "In the following chunk, we first create a function that takes the twitter handle dataframe and returns the count of followers for each MP. \n",
    "\n",
    "For simplification purposes, we then only consider a subset of the dataframe that is used in the further analysis, with only chosing MPs from the Green party (\"Die Grünen\"). In the next step, we definde the function ``col_to_tidy_list``, which takes a data frame and a column name as input parameters and tranforms the selected column from the specified data frame. More specifically, whitespaces are removed and the handles are split up. Ultimately, the cleaned list of twitter handles is returned. "
   ]
  },
  {
   "cell_type": "code",
   "execution_count": 8,
   "metadata": {},
   "outputs": [
    {
     "name": "stdout",
     "output_type": "stream",
     "text": [
      "['kirstenkappert', 'konstantinnotz', 'markuskurthmdb', 'babetteschefin', 'sven_kindler', 'agnieszka_mdb', 'goeringeckardt', 'markustressel', 'beatewaro', 'julia_verlinden', 'jtrittin', 'k_sa', 'ulle_schauws', 'schickgerhard', 'manuelsarrazin', 'tabearoessner', 'crueffer', 'lisapaus', 'fostendorff', 'cem_oezdemir', 'nouripour', 'gruenebeate', 'irenemihalic', 'tobiaslindner', 'steffilemke', 'monikalazar', 'renatekuenast', 'chriskuehn_mdb', 'stephankuehn', 'oliver_krischer', 'mariaklschmeink', 'uwekekeritz', 'djanecek', 'brihasselmann', 'hajdukbundestag', 'kaigehring', 'matthiasgastel', 'katjadoerner', 'katdro', 'ebner_sha', 'ekindeligoez', 'fbrantner', 'kerstinandreae', 'abaerbock', 'w_sk', 'lieblingxhain', 'stefangelbhaar', 'danywagner_da', 'badulrichmartha', 'gruenclaudia', 'derdanyal', 'margaretebause', 'filizgreen', 'owvonholtz', 'svenlehmann', 'annachristmann']\n"
     ]
    }
   ],
   "source": [
    "# follower count function\n",
    "def follower_count_fun(twitter_handle):\n",
    "    try: \n",
    "        user = api.get_user(screen_name = twitter_handle)\n",
    "        count = user.followers_count\n",
    "        return count\n",
    "    except tweepy.TweepyException:\n",
    "        pass\n",
    "\n",
    "# for demonstration and simplification purposes we create a subset with Green MPs\n",
    "twitter_df_greens = twitter_df[twitter_df[\"party\"] == \"DIE GRÜNEN\"]\n",
    "\n",
    "# store Twitter handles as list from data frame (column) with a function\n",
    "def col_to_tidy_list(df, col):\n",
    "    col_string = df[[col]].to_string(index = False, header = False)\n",
    "    tidy_string = col_string.replace(\" \", \"\")\n",
    "    tidy_list = tidy_string.split(\"\\n\")\n",
    "    return tidy_list\n",
    "\n",
    "# test and print results\n",
    "twitter_handles_list = col_to_tidy_list(\n",
    "    twitter_df_greens,\n",
    "    \"twitter_name\"\n",
    ")\n",
    "\n",
    "print(twitter_handles_list)"
   ]
  },
  {
   "cell_type": "markdown",
   "metadata": {},
   "source": [
    "### Storing follower counts and adding them to handles data frame\n",
    "\n",
    "In the next two steps, we first store the number of followers of each MP in a new list. Second, the number of followers is added to the respective handles. This enables us to identify the most popular MPs in the Green party. "
   ]
  },
  {
   "cell_type": "code",
   "execution_count": 9,
   "metadata": {},
   "outputs": [
    {
     "name": "stdout",
     "output_type": "stream",
     "text": [
      "[6571, 85644, 4013, None, 19628, 13949, 202482, 2019, None, 9634, 115398, 7490, 7730, 12033, 6524, 9446, 3495, 11080, None, 295112, 28453, 5772, 9511, 9767, 20515, 6341, 77261, 4655, 7493, 19938, 7767, 3351, 13783, 36170, 2510, 12207, 7475, 17965, 9607, 5432, 9875, 13313, 8868, 82567, 7531, 12960, 7795, 1711, 5675, 3126, 17175, 7334, 5704, 1744, 22471, 5139]\n"
     ]
    }
   ],
   "source": [
    "# apply function in a for loop and store follower count in list\n",
    "follower_count_list = []\n",
    "\n",
    "for twitter_name in twitter_handles_list:\n",
    "    follower_count_list.append(\n",
    "        follower_count_fun(twitter_name)\n",
    "    )\n",
    "\n",
    "# print results \n",
    "print(follower_count_list)"
   ]
  },
  {
   "cell_type": "code",
   "execution_count": 10,
   "metadata": {},
   "outputs": [
    {
     "name": "stdout",
     "output_type": "stream",
     "text": [
      "        twitter_name       party  follower_count\n",
      "34    kirstenkappert  DIE GRÜNEN          6571.0\n",
      "47    konstantinnotz  DIE GRÜNEN         85644.0\n",
      "67    markuskurthmdb  DIE GRÜNEN          4013.0\n",
      "68    babetteschefin  DIE GRÜNEN             NaN\n",
      "71      sven_kindler  DIE GRÜNEN         19628.0\n",
      "84     agnieszka_mdb  DIE GRÜNEN         13949.0\n",
      "92    goeringeckardt  DIE GRÜNEN        202482.0\n",
      "98     markustressel  DIE GRÜNEN          2019.0\n",
      "122        beatewaro  DIE GRÜNEN             NaN\n",
      "129  julia_verlinden  DIE GRÜNEN          9634.0\n",
      "135         jtrittin  DIE GRÜNEN        115398.0\n",
      "166             k_sa  DIE GRÜNEN          7490.0\n",
      "176     ulle_schauws  DIE GRÜNEN          7730.0\n",
      "179    schickgerhard  DIE GRÜNEN         12033.0\n",
      "185   manuelsarrazin  DIE GRÜNEN          6524.0\n",
      "189    tabearoessner  DIE GRÜNEN          9446.0\n",
      "194         crueffer  DIE GRÜNEN          3495.0\n",
      "221         lisapaus  DIE GRÜNEN         11080.0\n",
      "226      fostendorff  DIE GRÜNEN             NaN\n",
      "228     cem_oezdemir  DIE GRÜNEN        295112.0\n",
      "229        nouripour  DIE GRÜNEN         28453.0\n",
      "242      gruenebeate  DIE GRÜNEN          5772.0\n",
      "251     irenemihalic  DIE GRÜNEN          9511.0\n",
      "270    tobiaslindner  DIE GRÜNEN          9767.0\n",
      "276      steffilemke  DIE GRÜNEN         20515.0\n",
      "279      monikalazar  DIE GRÜNEN          6341.0\n",
      "288    renatekuenast  DIE GRÜNEN         77261.0\n",
      "290   chriskuehn_mdb  DIE GRÜNEN          4655.0\n",
      "291     stephankuehn  DIE GRÜNEN          7493.0\n",
      "296  oliver_krischer  DIE GRÜNEN         19938.0\n",
      "304  mariaklschmeink  DIE GRÜNEN          7767.0\n",
      "317      uwekekeritz  DIE GRÜNEN          3351.0\n",
      "326         djanecek  DIE GRÜNEN         13783.0\n",
      "352    brihasselmann  DIE GRÜNEN         36170.0\n",
      "357  hajdukbundestag  DIE GRÜNEN          2510.0\n",
      "375       kaigehring  DIE GRÜNEN         12207.0\n",
      "380   matthiasgastel  DIE GRÜNEN          7475.0\n",
      "397     katjadoerner  DIE GRÜNEN         17965.0\n",
      "399           katdro  DIE GRÜNEN          9607.0\n",
      "401        ebner_sha  DIE GRÜNEN          5432.0\n",
      "402     ekindeligoez  DIE GRÜNEN          9875.0\n",
      "416        fbrantner  DIE GRÜNEN         13313.0\n",
      "439   kerstinandreae  DIE GRÜNEN          8868.0\n",
      "443        abaerbock  DIE GRÜNEN         82567.0\n",
      "446             w_sk  DIE GRÜNEN          7531.0\n",
      "466    lieblingxhain  DIE GRÜNEN         12960.0\n",
      "468   stefangelbhaar  DIE GRÜNEN          7795.0\n",
      "491    danywagner_da  DIE GRÜNEN          1711.0\n",
      "499  badulrichmartha  DIE GRÜNEN          5675.0\n",
      "506     gruenclaudia  DIE GRÜNEN          3126.0\n",
      "507        derdanyal  DIE GRÜNEN         17175.0\n",
      "540   margaretebause  DIE GRÜNEN          7334.0\n",
      "553       filizgreen  DIE GRÜNEN          5704.0\n",
      "554       owvonholtz  DIE GRÜNEN          1744.0\n",
      "647      svenlehmann  DIE GRÜNEN         22471.0\n",
      "649   annachristmann  DIE GRÜNEN          5139.0\n"
     ]
    },
    {
     "name": "stderr",
     "output_type": "stream",
     "text": [
      "/var/folders/0z/2zjv_gf504q12hx7wv13j4y80000gn/T/ipykernel_27705/1502229836.py:2: SettingWithCopyWarning: \n",
      "A value is trying to be set on a copy of a slice from a DataFrame.\n",
      "Try using .loc[row_indexer,col_indexer] = value instead\n",
      "\n",
      "See the caveats in the documentation: https://pandas.pydata.org/pandas-docs/stable/user_guide/indexing.html#returning-a-view-versus-a-copy\n",
      "  twitter_df_greens[\"follower_count\"] = follower_count_list\n"
     ]
    }
   ],
   "source": [
    "# add follower count list to data fraee as a numeric column\n",
    "twitter_df_greens[\"follower_count\"] = follower_count_list\n",
    "\n",
    "# print transformed data frame\n",
    "print(twitter_df_greens)"
   ]
  },
  {
   "cell_type": "markdown",
   "metadata": {},
   "source": [
    "### Identifying the Green MP with most followers\n",
    "\n",
    "Here, we are storing the twitter handle of the Green MP with highest number of Twitter followers in a new object (``most_followers_mp``). As we can see from the printed ouput, it is Annalena Baerbock. "
   ]
  },
  {
   "cell_type": "code",
   "execution_count": 11,
   "metadata": {},
   "outputs": [
    {
     "name": "stdout",
     "output_type": "stream",
     "text": [
      "cem_oezdemir\n"
     ]
    }
   ],
   "source": [
    "# filter observation with highest follower count\n",
    "max_followers = twitter_df_greens[\"follower_count\"].max()\n",
    "\n",
    "twitter_df_greens[twitter_df_greens[\"follower_count\"] == max_followers]\n",
    "\n",
    "# get twitter name column with highest follower count as string\n",
    "most_followers_mp = twitter_df_greens[twitter_df_greens[\"follower_count\"] == max_followers][\"twitter_name\"].to_string(index = False, header = False)\n",
    "\n",
    "print(most_followers_mp)"
   ]
  },
  {
   "cell_type": "markdown",
   "metadata": {},
   "source": [
    "# Tweet extraction\n",
    "## convert `user_timeline` of **Annalena Baerbock** to data frame\n",
    "\n",
    "For this project, we exemplarily look at the tweets of Annalena Baerbock (Bündnis 90/Green Party) as the Green MP with the highest number of followers. In the next chunk, the `user_timeline`-function is used again, selecting the MP with the most followers, extracting the 200 last tweets, excluding retweets and storing them into a new object. Subsequently, the new object is transformed into a dataframe and printed."
   ]
  },
  {
   "cell_type": "code",
   "execution_count": 12,
   "metadata": {},
   "outputs": [
    {
     "name": "stdout",
     "output_type": "stream",
     "text": [
      "                        created_at                   id               id_str  \\\n",
      "0   Fri Dec 17 22:54:25 +0000 2021  1471977109480517637  1471977109480517637   \n",
      "1   Fri Dec 17 14:39:35 +0000 2021  1471852578660970496  1471852578660970496   \n",
      "2   Thu Dec 16 21:14:39 +0000 2021  1471589614183985154  1471589614183985154   \n",
      "3   Wed Dec 15 16:31:13 +0000 2021  1471155896462069760  1471155896462069760   \n",
      "4   Mon Dec 13 10:10:25 +0000 2021  1470335291814776837  1470335291814776837   \n",
      "..                             ...                  ...                  ...   \n",
      "73  Wed Nov 03 19:08:30 +0000 2021  1455975187908894720  1455975187908894720   \n",
      "74  Mon Nov 01 20:50:45 +0000 2021  1455276147655254025  1455276147655254025   \n",
      "75  Mon Nov 01 15:27:03 +0000 2021  1455194682389041166  1455194682389041166   \n",
      "76  Sun Oct 31 18:53:01 +0000 2021  1454884127702982656  1454884127702982656   \n",
      "77  Sun Oct 31 14:32:04 +0000 2021  1454818460794593289  1454818460794593289   \n",
      "\n",
      "                                                                                                                                                                         full_text  \\\n",
      "0                                                       @LindaTeuteberg @gegenvergessen Herzlichen Dank! Die Freude bei @gegenvergessen mitmachen zu dürfen, ist ganz meinerseits.   \n",
      "1   Lieber @_FriedrichMerz, herzlichen Glückwunsch! Für den demokratischen Wettbewerb braucht es eine #CDU, die eine klare Abgrenzung gegenüber Rechtsaußen wahrt. Dafür wünsch...   \n",
      "2                                                                                                      @UlrichSchulte @BMUV @SteffiLemke Herzlichen Glückwunsch &amp; viel Erfolg!   \n",
      "3                                          @RenateKuenast @karlbaer @zoe_gruene @cj_schroeder @AnneSpallek @WagenerNiklas @Die_Gruenen Freue mich auf die Zusammenarbeit mit Euch!   \n",
      "4                                                                          @aminajxx @MonikaHeinold @AufmDach Herzlichen Glückwunsch! Go for it, wie man bei uns Schwaben sagt ;-)   \n",
      "..                                                                                                                                                                             ...   \n",
      "73                                                                             @Gruene_SH @MonikaHeinold @aminajxx Herzlichen Glückwunsch Euch beiden und natürlich den @Gruene_SH   \n",
      "74                    Sehr guter Kommentar zum Thema, der in alle Richtungen gelten sollte: erst Fakten klären, Ermittlungen abwarten, dann Urteil bilden. https://t.co/upx4za5otP   \n",
      "75  Sie war direkt, unberechenbar, klar und ihre politische Analyse für die taz und ihre Kommentare zuletzt für den Spiegel beinhalteten nicht den nächsten naheliegendsten Ged...   \n",
      "76                                                                                                                                                     @DerDanyal Herzlichen Dank!   \n",
      "77                                                                                                        @RichterHedwig Herzlichen Dank! Gilt auch andersherum liebe Landsfrau 😊.   \n",
      "\n",
      "    truncated display_text_range  \\\n",
      "0       False          [32, 122]   \n",
      "1       False           [0, 206]   \n",
      "2       False           [34, 75]   \n",
      "3       False          [92, 135]   \n",
      "4       False          [35, 103]   \n",
      "..        ...                ...   \n",
      "73      False           [36, 99]   \n",
      "74      False           [0, 132]   \n",
      "75      False           [0, 243]   \n",
      "76      False           [11, 27]   \n",
      "77      False           [15, 72]   \n",
      "\n",
      "                                                                                source  \\\n",
      "0   <a href=\"http://twitter.com/download/iphone\" rel=\"nofollow\">Twitter for iPhone</a>   \n",
      "1   <a href=\"http://twitter.com/download/iphone\" rel=\"nofollow\">Twitter for iPhone</a>   \n",
      "2   <a href=\"http://twitter.com/download/iphone\" rel=\"nofollow\">Twitter for iPhone</a>   \n",
      "3   <a href=\"http://twitter.com/download/iphone\" rel=\"nofollow\">Twitter for iPhone</a>   \n",
      "4   <a href=\"http://twitter.com/download/iphone\" rel=\"nofollow\">Twitter for iPhone</a>   \n",
      "..                                                                                 ...   \n",
      "73   <a href=\"http://twitter.com/#!/download/ipad\" rel=\"nofollow\">Twitter for iPad</a>   \n",
      "74  <a href=\"http://twitter.com/download/iphone\" rel=\"nofollow\">Twitter for iPhone</a>   \n",
      "75  <a href=\"http://twitter.com/download/iphone\" rel=\"nofollow\">Twitter for iPhone</a>   \n",
      "76  <a href=\"http://twitter.com/download/iphone\" rel=\"nofollow\">Twitter for iPhone</a>   \n",
      "77  <a href=\"http://twitter.com/download/iphone\" rel=\"nofollow\">Twitter for iPhone</a>   \n",
      "\n",
      "    in_reply_to_status_id in_reply_to_status_id_str  in_reply_to_user_id  ...  \\\n",
      "0            1.471106e+18       1471105582161702914         1.709644e+08  ...   \n",
      "1                     NaN                      None                  NaN  ...   \n",
      "2            1.471441e+18       1471440901625028617         5.700476e+08  ...   \n",
      "3            1.471102e+18       1471101641881538563         1.425265e+09  ...   \n",
      "4            1.469662e+18       1469661805161197578         7.155290e+17  ...   \n",
      "..                    ...                       ...                  ...  ...   \n",
      "73           1.455841e+18       1455840716404445188         1.758958e+07  ...   \n",
      "74                    NaN                      None                  NaN  ...   \n",
      "75                    NaN                      None                  NaN  ...   \n",
      "76           1.454854e+18       1454854184084312067         8.084006e+17  ...   \n",
      "77           1.454815e+18       1454814834688675843         7.431522e+17  ...   \n",
      "\n",
      "   place.place_type place.name place.full_name place.country_code  \\\n",
      "0               NaN        NaN             NaN                NaN   \n",
      "1               NaN        NaN             NaN                NaN   \n",
      "2               NaN        NaN             NaN                NaN   \n",
      "3               NaN        NaN             NaN                NaN   \n",
      "4               NaN        NaN             NaN                NaN   \n",
      "..              ...        ...             ...                ...   \n",
      "73              NaN        NaN             NaN                NaN   \n",
      "74              NaN        NaN             NaN                NaN   \n",
      "75              NaN        NaN             NaN                NaN   \n",
      "76              NaN        NaN             NaN                NaN   \n",
      "77              NaN        NaN             NaN                NaN   \n",
      "\n",
      "    place.country place.contained_within  place.bounding_box.type  \\\n",
      "0             NaN                    NaN                      NaN   \n",
      "1             NaN                    NaN                      NaN   \n",
      "2             NaN                    NaN                      NaN   \n",
      "3             NaN                    NaN                      NaN   \n",
      "4             NaN                    NaN                      NaN   \n",
      "..            ...                    ...                      ...   \n",
      "73            NaN                    NaN                      NaN   \n",
      "74            NaN                    NaN                      NaN   \n",
      "75            NaN                    NaN                      NaN   \n",
      "76            NaN                    NaN                      NaN   \n",
      "77            NaN                    NaN                      NaN   \n",
      "\n",
      "    place.bounding_box.coordinates  entities.media  extended_entities.media  \n",
      "0                              NaN             NaN                      NaN  \n",
      "1                              NaN             NaN                      NaN  \n",
      "2                              NaN             NaN                      NaN  \n",
      "3                              NaN             NaN                      NaN  \n",
      "4                              NaN             NaN                      NaN  \n",
      "..                             ...             ...                      ...  \n",
      "73                             NaN             NaN                      NaN  \n",
      "74                             NaN             NaN                      NaN  \n",
      "75                             NaN             NaN                      NaN  \n",
      "76                             NaN             NaN                      NaN  \n",
      "77                             NaN             NaN                      NaN  \n",
      "\n",
      "[78 rows x 161 columns]\n"
     ]
    }
   ],
   "source": [
    "# extract tweets\n",
    "baerbock_tweets = api.user_timeline(\n",
    "    # MP with most followers (Greens) - Annalena Baerbock\n",
    "    screen_name = most_followers_mp,\n",
    "    # maximum number of tweets extractable\n",
    "    count = 200,\n",
    "    # do not include retweets\n",
    "    include_rts = False,\n",
    "    # scope of retrieved information\n",
    "    tweet_mode = \"extended\"\n",
    ")\n",
    "\n",
    "# apply function that converts timeline object to data frame\n",
    "baerbock_tweets_df = timeline_to_df(baerbock_tweets)\n",
    "\n",
    "# print data frame\n",
    "print(baerbock_tweets_df)"
   ]
  },
  {
   "cell_type": "markdown",
   "metadata": {},
   "source": [
    "## Save relevant columns as `.csv` file\n",
    "\n",
    "As last steps, some non-required columns are dropped and only relevant variables are stored in a new object. "
   ]
  },
  {
   "cell_type": "code",
   "execution_count": 13,
   "metadata": {},
   "outputs": [
    {
     "name": "stdout",
     "output_type": "stream",
     "text": [
      "                     id                      created_at  \\\n",
      "0   1471977109480517637  Fri Dec 17 22:54:25 +0000 2021   \n",
      "1   1471852578660970496  Fri Dec 17 14:39:35 +0000 2021   \n",
      "2   1471589614183985154  Thu Dec 16 21:14:39 +0000 2021   \n",
      "3   1471155896462069760  Wed Dec 15 16:31:13 +0000 2021   \n",
      "4   1470335291814776837  Mon Dec 13 10:10:25 +0000 2021   \n",
      "..                  ...                             ...   \n",
      "73  1455975187908894720  Wed Nov 03 19:08:30 +0000 2021   \n",
      "74  1455276147655254025  Mon Nov 01 20:50:45 +0000 2021   \n",
      "75  1455194682389041166  Mon Nov 01 15:27:03 +0000 2021   \n",
      "76  1454884127702982656  Sun Oct 31 18:53:01 +0000 2021   \n",
      "77  1454818460794593289  Sun Oct 31 14:32:04 +0000 2021   \n",
      "\n",
      "                                                                                                                                                                         full_text  \\\n",
      "0                                                       @LindaTeuteberg @gegenvergessen Herzlichen Dank! Die Freude bei @gegenvergessen mitmachen zu dürfen, ist ganz meinerseits.   \n",
      "1   Lieber @_FriedrichMerz, herzlichen Glückwunsch! Für den demokratischen Wettbewerb braucht es eine #CDU, die eine klare Abgrenzung gegenüber Rechtsaußen wahrt. Dafür wünsch...   \n",
      "2                                                                                                      @UlrichSchulte @BMUV @SteffiLemke Herzlichen Glückwunsch &amp; viel Erfolg!   \n",
      "3                                          @RenateKuenast @karlbaer @zoe_gruene @cj_schroeder @AnneSpallek @WagenerNiklas @Die_Gruenen Freue mich auf die Zusammenarbeit mit Euch!   \n",
      "4                                                                          @aminajxx @MonikaHeinold @AufmDach Herzlichen Glückwunsch! Go for it, wie man bei uns Schwaben sagt ;-)   \n",
      "..                                                                                                                                                                             ...   \n",
      "73                                                                             @Gruene_SH @MonikaHeinold @aminajxx Herzlichen Glückwunsch Euch beiden und natürlich den @Gruene_SH   \n",
      "74                    Sehr guter Kommentar zum Thema, der in alle Richtungen gelten sollte: erst Fakten klären, Ermittlungen abwarten, dann Urteil bilden. https://t.co/upx4za5otP   \n",
      "75  Sie war direkt, unberechenbar, klar und ihre politische Analyse für die taz und ihre Kommentare zuletzt für den Spiegel beinhalteten nicht den nächsten naheliegendsten Ged...   \n",
      "76                                                                                                                                                     @DerDanyal Herzlichen Dank!   \n",
      "77                                                                                                        @RichterHedwig Herzlichen Dank! Gilt auch andersherum liebe Landsfrau 😊.   \n",
      "\n",
      "   display_text_range  in_reply_to_user_id in_reply_to_screen_name  \\\n",
      "0           [32, 122]         1.709644e+08          LindaTeuteberg   \n",
      "1            [0, 206]                  NaN                    None   \n",
      "2            [34, 75]         5.700476e+08           UlrichSchulte   \n",
      "3           [92, 135]         1.425265e+09           RenateKuenast   \n",
      "4           [35, 103]         7.155290e+17                aminajxx   \n",
      "..                ...                  ...                     ...   \n",
      "73           [36, 99]         1.758958e+07               Gruene_SH   \n",
      "74           [0, 132]                  NaN                    None   \n",
      "75           [0, 243]                  NaN                    None   \n",
      "76           [11, 27]         8.084006e+17               DerDanyal   \n",
      "77           [15, 72]         7.431522e+17           RichterHedwig   \n",
      "\n",
      "    is_quote_status  retweet_count  favorite_count possibly_sensitive  \n",
      "0             False              1              30                NaN  \n",
      "1             False             44            1356                NaN  \n",
      "2             False              0              16                NaN  \n",
      "3             False              0              49                NaN  \n",
      "4             False              0              65                NaN  \n",
      "..              ...            ...             ...                ...  \n",
      "73            False              0              16                NaN  \n",
      "74             True              6             143              False  \n",
      "75            False             27             435                NaN  \n",
      "76            False              0               8                NaN  \n",
      "77            False              0              60                NaN  \n",
      "\n",
      "[78 rows x 10 columns]\n"
     ]
    }
   ],
   "source": [
    "# create subset of complete data frame\n",
    "baerbock_tweets_subset_df = baerbock_tweets_df[[\n",
    "    \"id\", \n",
    "    \"created_at\",\n",
    "    \"full_text\",\n",
    "    \"display_text_range\",\n",
    "    \"in_reply_to_user_id\",\n",
    "    \"in_reply_to_screen_name\",\n",
    "    \"is_quote_status\",\n",
    "    \"retweet_count\",\n",
    "    \"favorite_count\",\n",
    "    \"possibly_sensitive\"\n",
    "]]\n",
    "\n",
    "# print subsetted data frame\n",
    "print(baerbock_tweets_subset_df)"
   ]
  },
  {
   "cell_type": "markdown",
   "metadata": {},
   "source": [
    "### Checking whether file already exists"
   ]
  },
  {
   "cell_type": "code",
   "execution_count": 14,
   "metadata": {},
   "outputs": [
    {
     "name": "stdout",
     "output_type": "stream",
     "text": [
      "baerbock_tweets.csv did not exist before\n",
      "Tweets are saved in a csv file\n"
     ]
    }
   ],
   "source": [
    "# save data frame as csv in case it does not already exist\n",
    "if os.path.isfile(\"baerbock_tweets.csv\"):\n",
    "    print(\"baerbock_tweets.csv already exists\")\n",
    "else:\n",
    "    print(\"baerbock_tweets.csv did not exist before\\nTweets are saved in a csv file\")\n",
    "    baerbock_tweets_subset_df.to_csv(\"baerbock_tweets.csv\")"
   ]
  }
 ],
 "metadata": {
  "interpreter": {
   "hash": "31f2aee4e71d21fbe5cf8b01ff0e069b9275f58929596ceb00d14d90e3e16cd6"
  },
  "kernelspec": {
   "display_name": "Python 3.8.9 64-bit",
   "language": "python",
   "name": "python3"
  },
  "language_info": {
   "codemirror_mode": {
    "name": "ipython",
    "version": 3
   },
   "file_extension": ".py",
   "mimetype": "text/x-python",
   "name": "python",
   "nbconvert_exporter": "python",
   "pygments_lexer": "ipython3",
   "version": "3.8.9"
  },
  "orig_nbformat": 4
 },
 "nbformat": 4,
 "nbformat_minor": 2
}
